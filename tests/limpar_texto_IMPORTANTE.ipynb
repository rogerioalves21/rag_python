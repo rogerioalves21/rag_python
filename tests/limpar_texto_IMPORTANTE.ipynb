{
 "cells": [
  {
   "cell_type": "code",
   "execution_count": 14,
   "metadata": {},
   "outputs": [
    {
     "name": "stdout",
     "output_type": "stream",
     "text": [
      "'CCI - 1.502/2023 - CCS Brasília/DF, 29 de novembro de 2023. Às entidades do Sicoob. Assunto: Atualização tecnológica no Sisbr Analítico: disponibilização de\\narmazenamento de dados em infraestrutura na nuvem. Senhores(as), 1. Conforme previsto nos projetos corporativos nacionais Jornada Cognitiva do Sicoob e\\nJornada Cloud do Sicoob, comunicamos que, no período compreendido entre 30/11\\n(quinta-feira) e 3/12/2023 (domingo), o ambiente de armazenamento de dados do Sisbr\\nAnalítico passará por uma evolução tecnológica, sendo disponibilizado em uma\\ninfraestrutura na nuvem. A coordenação das ações será realizada de forma conjunta\\npelas áreas de Tecnologia da Informação (TI) e pelos fornecedores das soluções\\nenvolvidas. 2. Devido ao significativo volume de dados envolvidos, durante esse intervalo (de 30/11\\na 3/12/2023), os dados disponíveis no Sisbr Analítico refletirão as informações\\natualizadas até 29/11/2023 (quarta-feira), de acordo com a atualização de cada\\nproduto. 3. Ressaltamos que, apesar das experimentações e dos testes realizados para mitigar\\neventuais problemas pós-migração, dada a complexidade e a diversidade dos assuntos\\nneste ambiente, instabilidades podem ser observadas nos dias subsequentes a essa\\nmovimentação. Todavia, na ocorrência de instabilidades e problemas que venham a\\ncomprometer a experiência das cooperativas, já há uma equipe de profissionais para\\ntratamento imediato, alocada diuturnamente para efetuar os ajustes necessários.'\n"
     ]
    }
   ],
   "source": [
    "import string\n",
    "import re\n",
    "\n",
    "texto01 = \"\"\"\n",
    "CCI - 1.502/2023 - CCS Brasília/DF, 29 de novembro de 2023.\n",
    "\n",
    "Às entidades do Sicoob.\n",
    "\n",
    "Assunto: Atualização tecnológica no Sisbr Analítico: disponibilização de\n",
    "armazenamento de dados em infraestrutura na nuvem.\n",
    "\n",
    "Senhores(as),\n",
    "\n",
    "1. Conforme previsto nos projetos corporativos nacionais Jornada Cognitiva do Sicoob e\n",
    "Jornada Cloud do Sicoob, comunicamos que, no período compreendido entre 30/11\n",
    "(quinta-feira) e 3/12/2023 (domingo), o ambiente de armazenamento de dados do Sisbr\n",
    "Analítico passará por uma evolução tecnológica, sendo disponibilizado em uma\n",
    "infraestrutura na nuvem. A coordenação das ações será realizada de forma conjunta\n",
    "pelas áreas de Tecnologia da Informação (TI) e pelos fornecedores das soluções\n",
    "envolvidas.\n",
    "\n",
    "2. Devido ao significativo volume de dados envolvidos, durante esse intervalo (de 30/11\n",
    "a 3/12/2023), os dados disponíveis no Sisbr Analítico refletirão as informações\n",
    "atualizadas até 29/11/2023 (quarta-feira), de acordo com a atualização de cada\n",
    "produto.\n",
    "\n",
    "3. Ressaltamos que, apesar das experimentações e dos testes realizados para mitigar\n",
    "eventuais problemas pós-migração, dada a complexidade e a diversidade dos assuntos\n",
    "neste ambiente, instabilidades podem ser observadas nos dias subsequentes a essa\n",
    "movimentação. Todavia, na ocorrência de instabilidades e problemas que venham a\n",
    "comprometer a experiência das cooperativas, já há uma equipe de profissionais para\n",
    "tratamento imediato, alocada diuturnamente para efetuar os ajustes necessários.\n",
    "\"\"\"\n",
    "\n",
    "def cleanup_data(data: str) -> str:\n",
    "    \"\"\"Cleans up the given content using regexes\n",
    "    Args:\n",
    "        data: (str): The data to clean up.\n",
    "    Returns:\n",
    "        str: The cleaned up data.\n",
    "    \"\"\"\n",
    "    # match two or more newlines and replace them with one new line\n",
    "    output = re.sub(r\"\\r\\n{2,}\", \" \", data)\n",
    "    # match two or more spaces that are not newlines and replace them with one space\n",
    "    output = re.sub(r\"[^\\S]{2,}\", \" \", output)\n",
    "\n",
    "    return output.strip()\n",
    "\n",
    "# print(texto01)\n",
    "limpo = cleanup_data(texto01)\n",
    "print(repr(limpo))\n",
    "\n",
    "#pontuacao = \"!\\\"#$&'*@\\\\[\\\\]^`{|}~\"\n",
    "##table    = str.maketrans('', '', pontuacao)\n",
    "#stripped = [w.translate(table) for w in texto]\n",
    "#print('-------------------------')\n",
    "#print(''.join(stripped))"
   ]
  },
  {
   "cell_type": "code",
   "execution_count": 63,
   "metadata": {},
   "outputs": [
    {
     "name": "stdout",
     "output_type": "stream",
     "text": [
      "29\n",
      "AQUI\n",
      "# --------------------\n",
      "CCI - 1.502/2023 - CCS Brasília/DF, 29 de novembro de 2023.Às entidades do Sicoob.Assunto: Atualização tecnológica no Sisbr Analítico: disponibilização dearmazenamento de dados em infraestrutura na nuvem.Senhores(as),1. Conforme previsto nos projetos corporativos nacionais Jornada Cognitiva do Sicoob eJornada Cloud do Sicoob, comunicamos que, no período compreendido entre 30/11(quinta-feira) e 3/12/2023 (domingo), o ambiente de armazenamento de dados do SisbrAnalítico passará por uma evolução tecnológica, sendo disponibilizado em umainfraestrutura na nuvem. A coordenação das ações será realizada de forma conjuntapelas áreas de Tecnologia da Informação (TI) e pelos fornecedores das soluçõesenvolvidas.2. Devido ao significativo volume de dados envolvidos, durante esse intervalo (de 30/11a 3/12/2023), os dados disponíveis no Sisbr Analítico refletirão as informaçõesatualizadas até 29/11/2023 (quarta-feira), de acordo com a atualização de cadaproduto.3. Ressaltamos que, apesar das experimentações e dos testes realizados para mitigareventuais problemas pós-migração, dada a complexidade e a diversidade dos assuntosneste ambiente, instabilidades podem ser observadas nos dias subsequentes a essamovimentação. Todavia, na ocorrência de instabilidades e problemas que venham acomprometer a experiência das cooperativas, já há uma equipe de profissionais paratratamento imediato, alocada diuturnamente para efetuar os ajustes necessários.\n",
      "# --------------------\n",
      "AQUI\n"
     ]
    }
   ],
   "source": [
    "class Paragraphs:\n",
    "    def __init__(self, texto: str, separator='\\n'):\n",
    "        # texto = texto.replace('\\r\\n', '\\n\\n')\n",
    "        self.seq = texto.splitlines()\n",
    "        print(len(self.seq))\n",
    "        self.line_num = 0    # current index into self.seq (line number)\n",
    "        self.para_num = 0    # current index into self (paragraph number)\n",
    "\n",
    "        # Ensure that separator string includes a line-end character at the end\n",
    "        if separator[-1:] != '\\n': separator += '\\n'\n",
    "        self.separator = separator\n",
    "\n",
    "    def __getitem__(self, index):\n",
    "        print(\"AQUI\")\n",
    "        if index != self.para_num:\n",
    "            raise Exception(\"Only sequential access supported\")\n",
    "        self.para_num += 1\n",
    "        # Start where we left off and skip 0+ separator lines\n",
    "        while 1:\n",
    "        # Propagate IndexError, if any, since we're finished if it occurs\n",
    "            line = self.seq[self.line_num]\n",
    "            # print(f\"LINHA {self.line_num} : {line}\")\n",
    "            self.line_num += 1\n",
    "            if line != self.separator: break\n",
    "        # Accumulate 1+ nonempty lines into result\n",
    "        result = [line]\n",
    "        while 1:\n",
    "        # Intercept IndexError, since we have one last paragraph to return\n",
    "            try:\n",
    "                # Let's check if there's at least one more line in self.seq\n",
    "                line = self.seq[self.line_num]\n",
    "                # print(f\"LINHA {self.line_num} : {line}\")\n",
    "            except IndexError:\n",
    "                # self.seq is finished, so we exit the loop\n",
    "                break\n",
    "            # Increment index into self.seq for next time\n",
    "            self.line_num += 1\n",
    "            # print(f\"line {line[:1]} separator {self.separator}\")\n",
    "            if line == self.separator:\n",
    "                print('encontrou um separador')\n",
    "                break\n",
    "            result.append(line)\n",
    "            # print(result)\n",
    "        return ''.join(result)\n",
    "\n",
    "# Here's an example function, showing how to use class Paragraphs:\n",
    "def show_paragraphs(_meu_text: str, numpars=1000):\n",
    "    output = []\n",
    "    pp = Paragraphs(_meu_text)\n",
    "    for p in pp:\n",
    "        print(\"# --------------------\")\n",
    "        print(p)\n",
    "        print(\"# --------------------\")\n",
    "        output.append(repr(p))\n",
    "        if pp.para_num>numpars: break\n",
    "    return output\n",
    "\n",
    "formatado = show_paragraphs(texto01)\n",
    "# print(''.join(formatado))"
   ]
  },
  {
   "cell_type": "code",
   "execution_count": 1,
   "metadata": {},
   "outputs": [
    {
     "name": "stdout",
     "output_type": "stream",
     "text": [
      "quantidade de paragrafos 14\n"
     ]
    },
    {
     "data": {
      "text/plain": [
       "['CCI - 1.088/2024 - CCS Brasília/DF, 8 de agosto de 2024.\\n\\nÀs entidades do Sicoob.\\n\\nOrientações para a criação do Plano de Ação do Ciclo 2025 das cooperativas centrais e\\n\\nsingulares, referente aos programas do Portfólio do Instituto Sicoob.\\n\\n#### Comunicado: CCI - 1.088/2024 - CCS Brasília/DF, 8 de agosto de 2024.\\n\\nCarta-Circular de Instrução CCI - 1.088/2024 - CCS Brasília/DF, 8 de agosto de 2024.\\n\\nÀs entidades do Sicoob.\\n\\nOrientações para a criação do Plano de Ação do Ciclo 2025 das cooperativas centrais e singulares, referente aos programas do Portfólio do Instituto Sicoob.\\n\\nSenhores(as).\\n\\n1. Em conformidade com o Manual do Instituto Sicoob, disponível em Intranet do Sicoob - Normativos - CCS - Manuais,\\nque teve sua atualização mais recente divulgada pela Resolução CCS 228, de 21/12/2023, informamos as orientações para a criação do Plano de Ação do Ciclo 2025 das cooperativas centrais e singulares.\\n\\nreferente aos programas do Portfólio do Instituto Sicoob.',\n",
       " '2.\\n\\nPara fins de alinhamento, entende-se por plano de ação as estratégias, de nível\\ntático (ações específicas para o alcance de metas a médio prazo) e operacional\\n(atividades para o alcance de objetivos a curto prazo), estruturadas pelos sistemas regionais, alinhadas ao\\nPacto Sistêmico de Estratégia do Sicoob e que busquem\\npotencializar os resultados do investimento social.\\n\\n3. As cooperativas centrais e singulares deverão criar e enviar o seu Plano de Ação 2025\\naté 31/10/2024, por meio do preenchimento da planilha Plano de Ação 2025.\\n\\nconfigurada para cada sistema regional e disponível para acesso das Pessoas de Desenvolvimento Estratégico (PDEs) das cooperativas centrais no Microsoft\\nSharePoint Instituto Sicoob Materials por meio do caminho https://sicoob.sharepoint.com/sites/Instituto Sicoob Materiais - Documentos - Sins - Sistema do Instituto Sicoob - Plano de Ação 2025.']"
      ]
     },
     "execution_count": 1,
     "metadata": {},
     "output_type": "execute_result"
    }
   ],
   "source": [
    "import re\n",
    "import textwrap\n",
    "\n",
    "full_text = \"\"\"\n",
    "CCI - 1.088/2024 - CCS Brasília/DF, 8 de agosto de 2024.\n",
    "\n",
    "Às entidades do Sicoob.\n",
    "\n",
    "Orientações para a criação do Plano de Ação do Ciclo 2025 das cooperativas centrais e\n",
    "\n",
    "singulares, referente aos programas do Portfólio do Instituto Sicoob.\n",
    "\n",
    "#### Comunicado: CCI - 1.088/2024 - CCS Brasília/DF, 8 de agosto de 2024.\n",
    "\n",
    "Carta-Circular de Instrução CCI - 1.088/2024 - CCS Brasília/DF, 8 de agosto de 2024.\n",
    "\n",
    "\n",
    "Às entidades do Sicoob.\n",
    "\n",
    "\n",
    "Orientações para a criação do Plano de Ação do Ciclo 2025 das cooperativas centrais e singulares, referente aos programas do Portfólio do Instituto Sicoob.\n",
    "\n",
    "\n",
    "Senhores(as).\n",
    "\n",
    "\n",
    "1. Em conformidade com o Manual do Instituto Sicoob, disponível em Intranet do Sicoob - Normativos - CCS - Manuais,\n",
    "que teve sua atualização mais recente divulgada pela Resolução CCS 228, de 21/12/2023, informamos as orientações para a criação do Plano de Ação do Ciclo 2025 das cooperativas centrais e singulares.\n",
    "\n",
    "referente aos programas do Portfólio do Instituto Sicoob.\n",
    "\n",
    "\n",
    "2. Para fins de alinhamento, entende-se por plano de ação as estratégias, de nível\n",
    "tático (ações específicas para o alcance de metas a médio prazo) e operacional\n",
    "(atividades para o alcance de objetivos a curto prazo), estruturadas pelos sistemas regionais, alinhadas ao\n",
    "Pacto Sistêmico de Estratégia do Sicoob e que busquem\n",
    "potencializar os resultados do investimento social.\n",
    "\n",
    "\n",
    "3. As cooperativas centrais e singulares deverão criar e enviar o seu Plano de Ação 2025\n",
    "até 31/10/2024, por meio do preenchimento da planilha Plano de Ação 2025.\n",
    "\n",
    "configurada para cada sistema regional e disponível para acesso das Pessoas de Desenvolvimento Estratégico (PDEs) das cooperativas centrais no Microsoft\n",
    "SharePoint Instituto Sicoob Materials por meio do caminho https://sicoob.sharepoint.com/sites/Instituto Sicoob Materiais - Documentos - Sins - Sistema do Instituto Sicoob - Plano de Ação 2025.\n",
    "\"\"\"\n",
    "chunk_size, overlap = 1000, 3\n",
    "chunks = []\n",
    "current_chunk = []\n",
    "current_chunk_length = 0\n",
    "paragraphs = re.split(r'\\n\\s*\\n', full_text.strip())\n",
    "print(f\"quantidade de paragrafos {len(paragraphs)}\")\n",
    "for paragraph in paragraphs:\n",
    "    paragraph_length = len(paragraph)\n",
    "    # print(paragraph_length)\n",
    "    if current_chunk_length + paragraph_length <= chunk_size:\n",
    "        current_chunk.append(paragraph)\n",
    "        current_chunk_length += paragraph_length\n",
    "    # print(f\"\\n-----------------------------------\\n{p}\")\n",
    "    else:\n",
    "        if current_chunk:\n",
    "            chunks.append(\"\\n\\n\".join(current_chunk))\n",
    "        sentences = re.split(r'(?<=[.!?])\\s+', paragraph)\n",
    "        current_chunk = []\n",
    "        current_chunk_length = 0\n",
    "        for sentence in sentences:\n",
    "            sentence_length = len(sentence)\n",
    "            if current_chunk_length + sentence_length <= chunk_size:\n",
    "                current_chunk.append(sentence)\n",
    "                current_chunk_length += sentence_length\n",
    "            else:\n",
    "                if current_chunk:\n",
    "                    chunks.append(\" \".join(current_chunk))\n",
    "                current_chunk = [sentence]\n",
    "                current_chunk_length = sentence_length\n",
    "\n",
    "# joga no chunks\n",
    "if current_chunk:\n",
    "    chunks.append(\"\\n\\n\".join(current_chunk) if len(current_chunk) > 1 else current_chunk[0])\n",
    "\n",
    "# current_chunk_length, current_chunk, chunks\n",
    "chunks"
   ]
  },
  {
   "cell_type": "code",
   "execution_count": 15,
   "metadata": {},
   "outputs": [
    {
     "name": "stdout",
     "output_type": "stream",
     "text": [
      "CCI - 1.088/2024 - CCS Brasília/DF, 8 de agosto de 2024.  Às entidades do Sicoob.  Orientações para a criação do Plano de Ação do Ciclo 2025 das cooperativas centrais e  singulares, referente aos programas do Portfólio do Instituto Sicoob.  #### Comunicado: CCI - 1.088/2024 - CCS Brasília/DF, 8 de agosto de 2024.  Carta-Circular de Instrução CCI - 1.088/2024 - CCS Brasília/DF, 8 de agosto de 2024.  Às entidades do Sicoob.  Orientações para a criação do Plano de Ação do Ciclo 2025 das cooperativas centrais e singulares, referente aos programas do Portfólio do Instituto Sicoob.  Senhores(as).  1. Em conformidade com o Manual do Instituto Sicoob, disponível em Intranet do Sicoob - Normativos - CCS - Manuais, que teve sua atualização mais recente divulgada pela Resolução CCS 228, de 21/12/2023, informamos as orientações para a criação do Plano de Ação do Ciclo 2025 das cooperativas centrais e singulares.  referente aos programas do Portfólio do Instituto Sicoob. 2.  Para fins de alinhamento, entende-se por plano de ação as estratégias, de nível tático (ações específicas para o alcance de metas a médio prazo) e operacional (atividades para o alcance de objetivos a curto prazo), estruturadas pelos sistemas regionais, alinhadas ao Pacto Sistêmico de Estratégia do Sicoob e que busquem potencializar os resultados do investimento social.  3. As cooperativas centrais e singulares deverão criar e enviar o seu Plano de Ação 2025 até 31/10/2024, por meio do preenchimento da planilha Plano de Ação 2025.  configurada para cada sistema regional e disponível para acesso das Pessoas de Desenvolvimento Estratégico (PDEs) das cooperativas centrais no Microsoft SharePoint Instituto Sicoob Materials por meio do caminho https://sicoob.sharepoint.com/sites/Instituto Sicoob Materiais - Documentos - Sins - Sistema do Instituto Sicoob - Plano de Ação 2025.\n"
     ]
    }
   ],
   "source": [
    "wrapper = textwrap.TextWrapper(width=2000) \n",
    "string = []\n",
    "for chunk in chunks:\n",
    "    string.append(wrapper.fill(text=chunk))\n",
    "string = ' '.join(string)\n",
    "print(string)"
   ]
  },
  {
   "cell_type": "code",
   "execution_count": 2,
   "metadata": {},
   "outputs": [],
   "source": [
    "from langchain.chains import RetrievalQA\n",
    "# from langchain_chroma import Chroma\n",
    "from langchain_ollama import ChatOllama, OllamaEmbeddings\n",
    "from langchain_text_splitters import CharacterTextSplitter, RecursiveCharacterTextSplitter\n",
    "\n",
    "llm = ChatOllama(model=\"gemma2:2b-instruct-q4_K_M\", temperature=0, num_predict=2000, verbose=True)"
   ]
  },
  {
   "cell_type": "code",
   "execution_count": null,
   "metadata": {},
   "outputs": [],
   "source": [
    "def correcao_ocr(chunk, context):\n",
    "    ocr_correction_prompt = f\"\"\"Corrija erros induzidos por OCR no texto, garantindo que ele flua de forma coerente com o contexto anterior. Siga estas diretrizes:\n",
    "\n",
    "    1. Corrija erros de digitação e erros induzidos por OCR:\n",
    "    - Palavras corretas divididas em quebras de linha\n",
    "    - Corrija erros comuns de OCR (por exemplo, 'rn' mal interpretado como 'm')\n",
    "    - Use o contexto e o bom senso para corrigir erros\n",
    "    - Corrija apenas erros claros, não altere o conteúdo desnecessariamente\n",
    "    - Não adicione pontos extras ou qualquer pontuação desnecessária\n",
    "\n",
    "    2. Mantenha a estrutura original:\n",
    "    - Mantenha todos os títulos e subtítulos intactos\n",
    "    - Remova quebras de linha desnecessárias em frases ou parágrafos\n",
    "\n",
    "    3. Preserve o conteúdo original:\n",
    "    - Manter todas as informações importantes do texto original\n",
    "    - Não adicione nenhuma informação nova que não esteja presente no texto original\n",
    "    \n",
    "    4. Mantenha a coerência:\n",
    "    - Certifique-se de que o conteúdo se conecte perfeitamente com o contexto anterior\n",
    "    - Manipule o texto que começa ou termina no meio da frase de forma adequada\n",
    "\n",
    "    IMPORTANTE: Responda SOMENTE com o texto corrigido. Não inclua nenhuma introdução, explicação ou metadados.\n",
    "\n",
    "    Contexto anterior:\n",
    "    {context[-500:]}\n",
    "\n",
    "    Current chunk to process:\n",
    "    {chunk}\n",
    "\n",
    "    Corrected text:\n",
    "    \"\"\"\n",
    "    return llm.invoke(ocr_correction_prompt).content"
   ]
  },
  {
   "cell_type": "code",
   "execution_count": null,
   "metadata": {},
   "outputs": [],
   "source": [
    "contexto = \"\"\n",
    "texto_completo = []\n",
    "for i, chunk in enumerate(chunks):\n",
    "    contexto = correcao_ocr(chunk, contexto)\n",
    "    texto_completo.append(contexto)\n",
    "print(' '.join(texto_completo))"
   ]
  },
  {
   "cell_type": "code",
   "execution_count": null,
   "metadata": {},
   "outputs": [],
   "source": [
    "print(len(texto_completo))\n",
    "\n",
    "print(texto_completo)"
   ]
  },
  {
   "cell_type": "code",
   "execution_count": null,
   "metadata": {},
   "outputs": [],
   "source": [
    "prompt = \"\"\"Remova as quebras de linhas desnecessárias do texto abaixo:\n",
    "\n",
    "\n",
    "CCI - 1.088/2024 - CCS Brasília/DF, 8 de agosto de 2024.\n",
    "\n",
    "Às entidades do Sicoob.\n",
    "\n",
    "Orientações para a criação do Plano de Ação do Ciclo 2025 das cooperativas centrais e\n",
    "\n",
    "singulares, referentes aos programas do Portfólio do Instituto Sicoob\n",
    "\"\"\"\n",
    "print(llm.invoke(prompt).content)"
   ]
  },
  {
   "cell_type": "code",
   "execution_count": 3,
   "metadata": {},
   "outputs": [
    {
     "data": {
      "text/plain": [
       "AIMessage(content='## Perguntas alternativas para recuperar documentos relevantes:\\n\\n**Pergunta 1:**  Busco informações sobre os comunicados CCI-533/2024 e CCI-556/2024. Quais são os principais pontos abordados em cada um?\\n\\n**Pergunta 2:**  Quais são as principais características de cada comunicado (CCI) - 533/2024 e CCI-556/2024?\\n\\n**Pergunta 3:**  Como se relacionam os comunicados CCI-533/2024 e CCI-556/2024? Existe alguma conexão entre eles?\\n\\n**Pergunta 4:**  Quais são as palavras-chave mais relevantes para cada comunicado (CCI) - 533/2024 e CCI-556/2024?\\n\\n**Pergunta 5:**  Encontre documentos que abordam os temas de CCI-533/2024 e CCI-556/2024, identificando as palavras-chave mais importantes para cada um.\\n\\n\\n', response_metadata={'model': 'gemma2:2b-instruct-q4_K_M', 'created_at': '2024-08-24T05:05:13.50669Z', 'message': {'role': 'assistant', 'content': ''}, 'done_reason': 'stop', 'done': True, 'total_duration': 49735920200, 'load_duration': 6629787200, 'prompt_eval_count': 188, 'prompt_eval_duration': 10332406000, 'eval_count': 238, 'eval_duration': 32764922000}, id='run-60b65800-7d12-4d01-9628-9892c393648f-0', usage_metadata={'input_tokens': 188, 'output_tokens': 238, 'total_tokens': 426})"
      ]
     },
     "execution_count": 3,
     "metadata": {},
     "output_type": "execute_result"
    }
   ],
   "source": [
    "question = \"\"\"\n",
    "Existem dois comunicados (CCI) no contexto. A CCI - 533/2024, CCI - 556/2024.\n",
    "\n",
    "Sabendo disso, execute os seguintes passos:\n",
    "\n",
    "1. Faça um curto resumo de cada CCI.\n",
    "2. Para cada resumo, identifique e liste 3 palavras chave mais importantes.\n",
    "3. Verifique se existe alguma relação de conteúdo entre as CCIs.\n",
    "\"\"\".strip()\n",
    "\n",
    "multi_query_prompt = f\"\"\"\n",
    "Você é um assistente de modelo de linguagem de IA. Sua tarefa é gerar cinco\n",
    "diferentes versões da pergunta do usuário para recuperar documentos relevantes de um vetor\n",
    "banco de dados. Ao gerar múltiplas perspectivas sobre a pergunta do usuário, seu objetivo é ajudar\n",
    "o usuário supera algumas das limitações da busca por similaridade baseada em distância.\n",
    "Forneça essas perguntas alternativas separadas por novas linhas.\n",
    "Pergunta original: {question}\n",
    "\"\"\".strip()\n",
    "\n",
    "output = llm.invoke(multi_query_prompt)\n",
    "output"
   ]
  },
  {
   "cell_type": "code",
   "execution_count": 4,
   "metadata": {},
   "outputs": [],
   "source": [
    "full_text = \"\"\"\n",
    "CCI - 1.088/2024 - CCS Brasília/DF, 8 de agosto de 2024.\n",
    "\n",
    "Às entidades do Sicoob.\n",
    "\n",
    "Orientações para a criação do Plano de Ação do Ciclo 2025 das cooperativas centrais e\n",
    "\n",
    "singulares, referente aos programas do Portfólio do Instituto Sicoob.\n",
    "\n",
    "#### Comunicado: CCI - 1.088/2024 - CCS Brasília/DF, 8 de agosto de 2024.\n",
    "\n",
    "Carta-Circular de Instrução CCI - 1.088/2024 - CCS Brasília/DF, 8 de agosto de 2024.\n",
    "\n",
    "\n",
    "Às entidades do Sicoob.\n",
    "\n",
    "\n",
    "Orientações para a criação do Plano de Ação do Ciclo 2025 das cooperativas centrais e singulares, referente aos programas do Portfólio do Instituto Sicoob.\n",
    "\n",
    "\n",
    "Senhores(as).\n",
    "\n",
    "\n",
    "1. Em conformidade com o Manual do Instituto Sicoob, disponível em Intranet do Sicoob - Normativos - CCS - Manuais,\n",
    "que teve sua atualização mais recente divulgada pela Resolução CCS 228, de 21/12/2023, informamos as orientações para a criação do Plano de Ação do Ciclo 2025 das cooperativas centrais e singulares.\n",
    "\n",
    "referente aos programas do Portfólio do Instituto Sicoob.\n",
    "\n",
    "\n",
    "2. Para fins de alinhamento, entende-se por plano de ação as estratégias, de nível\n",
    "tático (ações específicas para o alcance de metas a médio prazo) e operacional\n",
    "(atividades para o alcance de objetivos a curto prazo), estruturadas pelos sistemas regionais, alinhadas ao\n",
    "Pacto Sistêmico de Estratégia do Sicoob e que busquem\n",
    "potencializar os resultados do investimento social.\n",
    "\n",
    "\n",
    "3. As cooperativas centrais e singulares deverão criar e enviar o seu Plano de Ação 2025\n",
    "até 31/10/2024, por meio do preenchimento da planilha Plano de Ação 2025.\n",
    "\n",
    "configurada para cada sistema regional e disponível para acesso das Pessoas de Desenvolvimento Estratégico (PDEs) das cooperativas centrais no Microsoft\n",
    "SharePoint Instituto Sicoob Materials por meio do caminho https://sicoob.sharepoint.com/sites/Instituto Sicoob Materiais - Documentos - Sins - Sistema do Instituto Sicoob - Plano de Ação 2025.\n",
    "\n",
    "\n",
    "\n",
    "## Comunicado: CCI - 1.081/2024 - CCS Brasília/DF, 8 de agosto de 2024.\n",
    "\n",
    "SICOOB Carta-Circular de Instrução/Funcionalidade -\n",
    "\n",
    "CCI - 1.081/2024 - CCS Brasília/DF, 8 de agosto de 2024.\n",
    "\n",
    "\n",
    "Às entidades do Sicoob.\n",
    "\n",
    "\n",
    "CCI complementar, referente às evoluções na funcionalidade Reavaliação Garantias do \n",
    "módulo Condução de Crédito da Plataforma de Crédito do Sisbr 2.0, em 9/8/2024.\n",
    "\n",
    "\n",
    "Senhores(as).\n",
    "\n",
    "\n",
    "1. Em complemento às CClIs - 007/2023, 129/2023, 522/2023, 1.015/2023 e 1.598/2023 - CCS, de 3/1/2023, 27/1/2023, 24/4/2023, 17/08/2023 e 14/12/2023 respectivamente.\n",
    "\n",
    "informamos a evolução da funcionalidade Reavaliação Garantias, disponível na Plataforma de Crédito do Sisbr 2.0, em 9/8/2024, conforme anexo desta CCI.\n",
    "\n",
    "\n",
    "2. Na data em que a reavaliação está agendada, o sistema verificará, de forma automática, na Plataforma de Atendimento (Cadastro de Pessoas do Sicoob - Capes), se a data de avaliação do bem é inferior a 12 (doze) meses da data do agendamento. Caso a última avaliação tenha sido realizada dentro desse novo intervalo de 12 (doze) meses, o sistema procederá com a atualização da data da última avaliação e do valor da garantia, conforme avaliação mais recente informada no Capes.\n",
    "\n",
    "\n",
    "Atenciosamente.\n",
    "\n",
    "Edson Rodrigues Lisboa Júnior Paulo Antônio Neto Ribeiro Sistemas de Informação | Operações e Produtos de Crédito Superintendente Superintendente Evolutiva negocial\n",
    "STI: 77127\n",
    "\"\"\""
   ]
  },
  {
   "cell_type": "code",
   "execution_count": 9,
   "metadata": {},
   "outputs": [],
   "source": [
    "from langchain_core.documents import Document\n",
    "from langchain_community.vectorstores import DocArrayInMemorySearch\n",
    "from langchain_text_splitters import CharacterTextSplitter\n",
    "from langchain_ollama import OllamaEmbeddings\n",
    "\n",
    "text_splitter = CharacterTextSplitter(chunk_size=120, chunk_overlap=20, length_function=len)\n",
    "embeddings    = OllamaEmbeddings(model=\"mxbai-embed-large\")\n",
    "\n",
    "data_base = DocArrayInMemorySearch.from_params(\n",
    "            embedding=embeddings,\n",
    "            metric=\"euclidian_dist\",\n",
    "        )"
   ]
  },
  {
   "cell_type": "code",
   "execution_count": 10,
   "metadata": {},
   "outputs": [
    {
     "name": "stderr",
     "output_type": "stream",
     "text": [
      "Created a chunk of size 156, which is longer than the specified 120\n",
      "Created a chunk of size 315, which is longer than the specified 120\n",
      "Created a chunk of size 376, which is longer than the specified 120\n",
      "Created a chunk of size 163, which is longer than the specified 120\n"
     ]
    },
    {
     "name": "stdout",
     "output_type": "stream",
     "text": [
      "[Document(page_content='CCI - 1.088/2024 - CCS Brasília/DF, 8 de agosto de 2024.\\n\\nÀs entidades do Sicoob.'), Document(page_content='Orientações para a criação do Plano de Ação do Ciclo 2025 das cooperativas centrais e'), Document(page_content='singulares, referente aos programas do Portfólio do Instituto Sicoob.'), Document(page_content='#### Comunicado: CCI - 1.088/2024 - CCS Brasília/DF, 8 de agosto de 2024.'), Document(page_content='Carta-Circular de Instrução CCI - 1.088/2024 - CCS Brasília/DF, 8 de agosto de 2024.\\n\\n\\nÀs entidades do Sicoob.'), Document(page_content='Orientações para a criação do Plano de Ação do Ciclo 2025 das cooperativas centrais e singulares, referente aos programas do Portfólio do Instituto Sicoob.'), Document(page_content='Senhores(as).'), Document(page_content='1. Em conformidade com o Manual do Instituto Sicoob, disponível em Intranet do Sicoob - Normativos - CCS - Manuais,\\nque teve sua atualização mais recente divulgada pela Resolução CCS 228, de 21/12/2023, informamos as orientações para a criação do Plano de Ação do Ciclo 2025 das cooperativas centrais e singulares.'), Document(page_content='referente aos programas do Portfólio do Instituto Sicoob.'), Document(page_content='2. Para fins de alinhamento, entende-se por plano de ação as estratégias, de nível\\ntático (ações específicas para o alcance de metas a médio prazo) e operacional\\n(atividades para o alcance de objetivos a curto prazo), estruturadas pelos sistemas regionais, alinhadas ao\\nPacto Sistêmico de Estratégia do Sicoob e que busquem\\npotencializar os resultados do investimento social.'), Document(page_content='3. As cooperativas centrais e singulares deverão criar e enviar o seu Plano de Ação 2025\\naté 31/10/2024, por meio do preenchimento da planilha Plano de Ação 2025.'), Document(page_content='configurada para cada sistema regional e disponível para acesso das Pessoas de Desenvolvimento Estratégico (PDEs) das cooperativas centrais no Microsoft\\nSharePoint Instituto Sicoob Materials por meio do caminho https://sicoob.sharepoint.com/sites/Instituto Sicoob Materiais - Documentos - Sins - Sistema do Instituto Sicoob - Plano de Ação 2025.')]\n"
     ]
    },
    {
     "data": {
      "text/plain": [
       "['33caa89d9fed9c8ee4e810556d68079a',\n",
       " '3cb4da0d6b5e33e90691637d2fff6faa',\n",
       " 'bf473de249b8e44aa8673a1af6fb9581',\n",
       " 'd77ad24a24264f884f8362e3ee4e4ba5',\n",
       " '1f240bf56c0c23678ba5fb79d46b2a35',\n",
       " '9adcbaa1ddc0f892bd09d93d7343aeac',\n",
       " '47d38a85771fd300275b9f21ae824fdd',\n",
       " 'bcf035f04cdc1e795c4ccb86936dc448',\n",
       " 'a43f84c23947312834ad70c8bf8030e0',\n",
       " '58e73c4cb7c88d608d15dcd520be3cdf',\n",
       " '889e50057d152fdd3f3998638c3fada5',\n",
       " '99474a88e53a288dda7e45f793e855a3']"
      ]
     },
     "execution_count": 10,
     "metadata": {},
     "output_type": "execute_result"
    }
   ],
   "source": [
    "docs = text_splitter.create_documents(texts=text_splitter.split_text(full_text))\n",
    "print(docs)\n",
    "data_base.add_documents(docs)"
   ]
  },
  {
   "cell_type": "code",
   "execution_count": 11,
   "metadata": {},
   "outputs": [],
   "source": [
    "retriever = data_base.as_retriever()"
   ]
  },
  {
   "cell_type": "code",
   "execution_count": 12,
   "metadata": {},
   "outputs": [
    {
     "data": {
      "text/plain": [
       "[Document(page_content='Orientações para a criação do Plano de Ação do Ciclo 2025 das cooperativas centrais e'),\n",
       " Document(page_content='Orientações para a criação do Plano de Ação do Ciclo 2025 das cooperativas centrais e singulares, referente aos programas do Portfólio do Instituto Sicoob.'),\n",
       " Document(page_content='3. As cooperativas centrais e singulares deverão criar e enviar o seu Plano de Ação 2025\\naté 31/10/2024, por meio do preenchimento da planilha Plano de Ação 2025.'),\n",
       " Document(page_content='#### Comunicado: CCI - 1.088/2024 - CCS Brasília/DF, 8 de agosto de 2024.')]"
      ]
     },
     "execution_count": 12,
     "metadata": {},
     "output_type": "execute_result"
    }
   ],
   "source": [
    "result = retriever.get_relevant_documents(query=\"Sobre o Plano de Ação do Ciclo 2025. Qual o número da CCI?\")\n",
    "result"
   ]
  },
  {
   "cell_type": "code",
   "execution_count": 13,
   "metadata": {},
   "outputs": [],
   "source": [
    "def pretty_print_docs(docs):\n",
    "    print(f\"\\n{'-' * 100}\\n\".join([f\"Document {i+1}:\\n\" + d.page_content for i, d in enumerate(docs)]))"
   ]
  },
  {
   "cell_type": "code",
   "execution_count": 14,
   "metadata": {},
   "outputs": [
    {
     "name": "stdout",
     "output_type": "stream",
     "text": [
      "Document 1:\n",
      "```\n",
      "CCI - 533/2024, CCI - 556/2024\n",
      "```\n",
      "----------------------------------------------------------------------------------------------------\n",
      "Document 2:\n",
      "```\n",
      "\"Em conformidade com o Manual do Instituto Sicoob, disponível em Intranet do Sicoob - Normativos - CCS - Manuais, que teve sua atualização mais recente divulgada pela Resolução CCS 228, de 12/2023, informamos as orientações para a criação do Plano de Ação do Ciclo 2025 das cooperativas centrais e singulares.\"\n",
      "```\n",
      "----------------------------------------------------------------------------------------------------\n",
      "Document 3:\n",
      "```\n",
      "CCI - 533/2024, CCI - 556/2024\n",
      "```\n",
      "----------------------------------------------------------------------------------------------------\n",
      "Document 4:\n",
      "```\n",
      "Carta-Circular de Instrução CCI - 1.088/2024 - CCS Brasília/DF, 8 de agosto de 2024.\n",
      "```\n"
     ]
    }
   ],
   "source": [
    "from langchain.retrievers import ContextualCompressionRetriever\n",
    "from langchain.retrievers.document_compressors import LLMChainExtractor\n",
    "\n",
    "compressor = LLMChainExtractor.from_llm(llm)\n",
    "compression_retriever = ContextualCompressionRetriever(base_compressor=compressor, base_retriever=retriever)\n",
    "\n",
    "compressed_docs = compression_retriever.get_relevant_documents(query=question)\n",
    "pretty_print_docs(compressed_docs)"
   ]
  },
  {
   "cell_type": "code",
   "execution_count": 16,
   "metadata": {},
   "outputs": [
    {
     "name": "stdout",
     "output_type": "stream",
     "text": [
      "Document 1:\n",
      "Orientações para a criação do Plano de Ação do Ciclo 2025 das cooperativas centrais e\n",
      "----------------------------------------------------------------------------------------------------\n",
      "Document 2:\n",
      "Orientações para a criação do Plano de Ação do Ciclo 2025 das cooperativas centrais e singulares, referente aos programas do Portfólio do Instituto Sicoob.\n",
      "----------------------------------------------------------------------------------------------------\n",
      "Document 3:\n",
      "3. As cooperativas centrais e singulares deverão criar e enviar o seu Plano de Ação 2025\n",
      "até 31/10/2024, por meio do preenchimento da planilha Plano de Ação 2025.\n",
      "----------------------------------------------------------------------------------------------------\n",
      "Document 4:\n",
      "#### Comunicado: CCI - 1.088/2024 - CCS Brasília/DF, 8 de agosto de 2024.\n"
     ]
    }
   ],
   "source": [
    "from langchain.retrievers.document_compressors import EmbeddingsFilter\n",
    "\n",
    "embeddings_filter = EmbeddingsFilter(embeddings=embeddings, similarity_threshold=0.5)\n",
    "compression_retriever = ContextualCompressionRetriever(base_compressor=embeddings_filter, base_retriever=retriever)\n",
    "\n",
    "compressed_docs = compression_retriever.get_relevant_documents(query=\"Sobre o Plano de Ação do Ciclo 2025. Qual o número da CCI?\")\n",
    "pretty_print_docs(compressed_docs)"
   ]
  },
  {
   "cell_type": "code",
   "execution_count": 17,
   "metadata": {},
   "outputs": [
    {
     "name": "stdout",
     "output_type": "stream",
     "text": [
      "Document 1:\n",
      "Orientações para a criação do Plano de Ação do Ciclo 2025 das cooperativas centrais e\n",
      "----------------------------------------------------------------------------------------------------\n",
      "Document 2:\n",
      "Orientações para a criação do Plano de Ação do Ciclo 2025 das cooperativas centrais e singulares, referente aos programas do Portfólio do Instituto Sicoob.\n",
      "----------------------------------------------------------------------------------------------------\n",
      "Document 3:\n",
      "3. As cooperativas centrais e singulares deverão criar e enviar o seu Plano de Ação 2025\n",
      "até 31/10/2024, por meio do preenchimento da planilha Plano de Ação 2025.\n",
      "----------------------------------------------------------------------------------------------------\n",
      "Document 4:\n",
      "#### Comunicado: CCI - 1.088/2024 - CCS Brasília/DF, 8 de agosto de 2024.\n"
     ]
    }
   ],
   "source": [
    "from langchain.document_transformers import EmbeddingsRedundantFilter\n",
    "from langchain.retrievers.document_compressors import DocumentCompressorPipeline\n",
    "from langchain.text_splitter import CharacterTextSplitter\n",
    "\n",
    "splitter = CharacterTextSplitter(chunk_size=300, chunk_overlap=0, separator=\". \")\n",
    "redundant_filter = EmbeddingsRedundantFilter(embeddings=embeddings)\n",
    "relevant_filter = EmbeddingsFilter(embeddings=embeddings, similarity_threshold=0.76)\n",
    "pipeline_compressor = DocumentCompressorPipeline(\n",
    "    transformers=[splitter, redundant_filter, relevant_filter]\n",
    ")\n",
    "\n",
    "compression_retriever = ContextualCompressionRetriever(base_compressor=pipeline_compressor, base_retriever=retriever)\n",
    "\n",
    "compressed_docs = compression_retriever.get_relevant_documents(query=\"Sobre o Plano de Ação do Ciclo 2025. Qual o número da CCI?\")\n",
    "pretty_print_docs(compressed_docs)"
   ]
  },
  {
   "cell_type": "code",
   "execution_count": null,
   "metadata": {},
   "outputs": [],
   "source": []
  }
 ],
 "metadata": {
  "kernelspec": {
   "display_name": "Python 3",
   "language": "python",
   "name": "python3"
  },
  "language_info": {
   "codemirror_mode": {
    "name": "ipython",
    "version": 3
   },
   "file_extension": ".py",
   "mimetype": "text/x-python",
   "name": "python",
   "nbconvert_exporter": "python",
   "pygments_lexer": "ipython3",
   "version": "3.12.4"
  }
 },
 "nbformat": 4,
 "nbformat_minor": 2
}
