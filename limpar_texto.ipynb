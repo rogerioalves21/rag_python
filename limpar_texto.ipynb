{
 "cells": [
  {
   "cell_type": "code",
   "execution_count": 8,
   "metadata": {},
   "outputs": [
    {
     "name": "stdout",
     "output_type": "stream",
     "text": [
      "quantidade de paragrafos 14\n"
     ]
    },
    {
     "data": {
      "text/plain": [
       "['CCI - 1.088/2024 - CCS Brasília/DF, 8 de agosto de 2024.\\n\\nÀs entidades do Sicoob.\\n\\nOrientações para a criação do Plano de Ação do Ciclo 2025 das cooperativas centrais e\\n\\nsingulares, referente aos programas do Portfólio do Instituto Sicoob.\\n\\n#### Comunicado: CCI - 1.088/2024 - CCS Brasília/DF, 8 de agosto de 2024.\\n\\nCarta-Circular de Instrução CCI - 1.088/2024 - CCS Brasília/DF, 8 de agosto de 2024.\\n\\nÀs entidades do Sicoob.\\n\\nOrientações para a criação do Plano de Ação do Ciclo 2025 das cooperativas centrais e singulares, referente aos programas do Portfólio do Instituto Sicoob.\\n\\nSenhores(as).\\n\\n1. Em conformidade com o Manual do Instituto Sicoob, disponível em Intranet do Sicoob - Normativos - CCS - Manuais,\\nque teve sua atualização mais recente divulgada pela Resolução CCS 228, de 21/12/2023, informamos as orientações para a criação do Plano de Ação do Ciclo 2025 das cooperativas centrais e singulares.\\n\\nreferente aos programas do Portfólio do Instituto Sicoob.',\n",
       " '2.\\n\\nPara fins de alinhamento, entende-se por plano de ação as estratégias, de nível\\ntático (ações específicas para o alcance de metas a médio prazo) e operacional\\n(atividades para o alcance de objetivos a curto prazo), estruturadas pelos sistemas regionais, alinhadas ao\\nPacto Sistêmico de Estratégia do Sicoob e que busquem\\npotencializar os resultados do investimento social.\\n\\n3. As cooperativas centrais e singulares deverão criar e enviar o seu Plano de Ação 2025\\naté 31/10/2024, por meio do preenchimento da planilha Plano de Ação 2025.\\n\\nconfigurada para cada sistema regional e disponível para acesso das Pessoas de Desenvolvimento Estratégico (PDEs) das cooperativas centrais no Microsoft\\nSharePoint Instituto Sicoob Materials por meio do caminho https://sicoob.sharepoint.com/sites/Instituto Sicoob Materiais - Documentos - Sins - Sistema do Instituto Sicoob - Plano de Ação 2025.']"
      ]
     },
     "execution_count": 8,
     "metadata": {},
     "output_type": "execute_result"
    }
   ],
   "source": [
    "import re\n",
    "import textwrap\n",
    "\n",
    "full_text = \"\"\"\n",
    "CCI - 1.088/2024 - CCS Brasília/DF, 8 de agosto de 2024.\n",
    "\n",
    "Às entidades do Sicoob.\n",
    "\n",
    "Orientações para a criação do Plano de Ação do Ciclo 2025 das cooperativas centrais e\n",
    "\n",
    "singulares, referente aos programas do Portfólio do Instituto Sicoob.\n",
    "\n",
    "#### Comunicado: CCI - 1.088/2024 - CCS Brasília/DF, 8 de agosto de 2024.\n",
    "\n",
    "Carta-Circular de Instrução CCI - 1.088/2024 - CCS Brasília/DF, 8 de agosto de 2024.\n",
    "\n",
    "\n",
    "Às entidades do Sicoob.\n",
    "\n",
    "\n",
    "Orientações para a criação do Plano de Ação do Ciclo 2025 das cooperativas centrais e singulares, referente aos programas do Portfólio do Instituto Sicoob.\n",
    "\n",
    "\n",
    "Senhores(as).\n",
    "\n",
    "\n",
    "1. Em conformidade com o Manual do Instituto Sicoob, disponível em Intranet do Sicoob - Normativos - CCS - Manuais,\n",
    "que teve sua atualização mais recente divulgada pela Resolução CCS 228, de 21/12/2023, informamos as orientações para a criação do Plano de Ação do Ciclo 2025 das cooperativas centrais e singulares.\n",
    "\n",
    "referente aos programas do Portfólio do Instituto Sicoob.\n",
    "\n",
    "\n",
    "2. Para fins de alinhamento, entende-se por plano de ação as estratégias, de nível\n",
    "tático (ações específicas para o alcance de metas a médio prazo) e operacional\n",
    "(atividades para o alcance de objetivos a curto prazo), estruturadas pelos sistemas regionais, alinhadas ao\n",
    "Pacto Sistêmico de Estratégia do Sicoob e que busquem\n",
    "potencializar os resultados do investimento social.\n",
    "\n",
    "\n",
    "3. As cooperativas centrais e singulares deverão criar e enviar o seu Plano de Ação 2025\n",
    "até 31/10/2024, por meio do preenchimento da planilha Plano de Ação 2025.\n",
    "\n",
    "configurada para cada sistema regional e disponível para acesso das Pessoas de Desenvolvimento Estratégico (PDEs) das cooperativas centrais no Microsoft\n",
    "SharePoint Instituto Sicoob Materials por meio do caminho https://sicoob.sharepoint.com/sites/Instituto Sicoob Materiais - Documentos - Sins - Sistema do Instituto Sicoob - Plano de Ação 2025.\n",
    "\"\"\"\n",
    "chunk_size, overlap = 1000, 3\n",
    "chunks = []\n",
    "current_chunk = []\n",
    "current_chunk_length = 0\n",
    "paragraphs = re.split(r'\\n\\s*\\n', full_text.strip())\n",
    "print(f\"quantidade de paragrafos {len(paragraphs)}\")\n",
    "for paragraph in paragraphs:\n",
    "    paragraph_length = len(paragraph)\n",
    "    # print(paragraph_length)\n",
    "    if current_chunk_length + paragraph_length <= chunk_size:\n",
    "        current_chunk.append(paragraph)\n",
    "        current_chunk_length += paragraph_length\n",
    "    # print(f\"\\n-----------------------------------\\n{p}\")\n",
    "    else:\n",
    "        if current_chunk:\n",
    "            chunks.append(\"\\n\\n\".join(current_chunk))\n",
    "        sentences = re.split(r'(?<=[.!?])\\s+', paragraph)\n",
    "        current_chunk = []\n",
    "        current_chunk_length = 0\n",
    "        for sentence in sentences:\n",
    "            sentence_length = len(sentence)\n",
    "            if current_chunk_length + sentence_length <= chunk_size:\n",
    "                current_chunk.append(sentence)\n",
    "                current_chunk_length += sentence_length\n",
    "            else:\n",
    "                if current_chunk:\n",
    "                    chunks.append(\" \".join(current_chunk))\n",
    "                current_chunk = [sentence]\n",
    "                current_chunk_length = sentence_length\n",
    "\n",
    "# joga no chunks\n",
    "if current_chunk:\n",
    "    chunks.append(\"\\n\\n\".join(current_chunk) if len(current_chunk) > 1 else current_chunk[0])\n",
    "\n",
    "# current_chunk_length, current_chunk, chunks\n",
    "chunks"
   ]
  },
  {
   "cell_type": "code",
   "execution_count": 15,
   "metadata": {},
   "outputs": [
    {
     "name": "stdout",
     "output_type": "stream",
     "text": [
      "CCI - 1.088/2024 - CCS Brasília/DF, 8 de agosto de 2024.  Às entidades do Sicoob.  Orientações para a criação do Plano de Ação do Ciclo 2025 das cooperativas centrais e  singulares, referente aos programas do Portfólio do Instituto Sicoob.  #### Comunicado: CCI - 1.088/2024 - CCS Brasília/DF, 8 de agosto de 2024.  Carta-Circular de Instrução CCI - 1.088/2024 - CCS Brasília/DF, 8 de agosto de 2024.  Às entidades do Sicoob.  Orientações para a criação do Plano de Ação do Ciclo 2025 das cooperativas centrais e singulares, referente aos programas do Portfólio do Instituto Sicoob.  Senhores(as).  1. Em conformidade com o Manual do Instituto Sicoob, disponível em Intranet do Sicoob - Normativos - CCS - Manuais, que teve sua atualização mais recente divulgada pela Resolução CCS 228, de 21/12/2023, informamos as orientações para a criação do Plano de Ação do Ciclo 2025 das cooperativas centrais e singulares.  referente aos programas do Portfólio do Instituto Sicoob. 2.  Para fins de alinhamento, entende-se por plano de ação as estratégias, de nível tático (ações específicas para o alcance de metas a médio prazo) e operacional (atividades para o alcance de objetivos a curto prazo), estruturadas pelos sistemas regionais, alinhadas ao Pacto Sistêmico de Estratégia do Sicoob e que busquem potencializar os resultados do investimento social.  3. As cooperativas centrais e singulares deverão criar e enviar o seu Plano de Ação 2025 até 31/10/2024, por meio do preenchimento da planilha Plano de Ação 2025.  configurada para cada sistema regional e disponível para acesso das Pessoas de Desenvolvimento Estratégico (PDEs) das cooperativas centrais no Microsoft SharePoint Instituto Sicoob Materials por meio do caminho https://sicoob.sharepoint.com/sites/Instituto Sicoob Materiais - Documentos - Sins - Sistema do Instituto Sicoob - Plano de Ação 2025.\n"
     ]
    }
   ],
   "source": [
    "wrapper = textwrap.TextWrapper(width=2000) \n",
    "string = []\n",
    "for chunk in chunks:\n",
    "    string.append(wrapper.fill(text=chunk))\n",
    "string = ' '.join(string)\n",
    "print(string)"
   ]
  },
  {
   "cell_type": "code",
   "execution_count": null,
   "metadata": {},
   "outputs": [],
   "source": [
    "from langchain.chains import RetrievalQA\n",
    "from langchain_chroma import Chroma\n",
    "from langchain_ollama import ChatOllama, OllamaEmbeddings\n",
    "from langchain_text_splitters import CharacterTextSplitter, RecursiveCharacterTextSplitter\n",
    "\n",
    "llm = ChatOllama(model=\"qwen2:7b-instruct-q2_K\", temperature=0, num_predict=2000, verbose=True)"
   ]
  },
  {
   "cell_type": "code",
   "execution_count": null,
   "metadata": {},
   "outputs": [],
   "source": [
    "def correcao_ocr(chunk, context):\n",
    "    ocr_correction_prompt = f\"\"\"Corrija erros induzidos por OCR no texto, garantindo que ele flua de forma coerente com o contexto anterior. Siga estas diretrizes:\n",
    "\n",
    "    1. Corrija erros de digitação e erros induzidos por OCR:\n",
    "    - Palavras corretas divididas em quebras de linha\n",
    "    - Corrija erros comuns de OCR (por exemplo, 'rn' mal interpretado como 'm')\n",
    "    - Use o contexto e o bom senso para corrigir erros\n",
    "    - Corrija apenas erros claros, não altere o conteúdo desnecessariamente\n",
    "    - Não adicione pontos extras ou qualquer pontuação desnecessária\n",
    "\n",
    "    2. Mantenha a estrutura original:\n",
    "    - Mantenha todos os títulos e subtítulos intactos\n",
    "    - Remova quebras de linha desnecessárias em frases ou parágrafos\n",
    "\n",
    "    3. Preserve o conteúdo original:\n",
    "    - Manter todas as informações importantes do texto original\n",
    "    - Não adicione nenhuma informação nova que não esteja presente no texto original\n",
    "    \n",
    "    4. Mantenha a coerência:\n",
    "    - Certifique-se de que o conteúdo se conecte perfeitamente com o contexto anterior\n",
    "    - Manipule o texto que começa ou termina no meio da frase de forma adequada\n",
    "\n",
    "    IMPORTANTE: Responda SOMENTE com o texto corrigido. Não inclua nenhuma introdução, explicação ou metadados.\n",
    "\n",
    "    Contexto anterior:\n",
    "    {context[-500:]}\n",
    "\n",
    "    Current chunk to process:\n",
    "    {chunk}\n",
    "\n",
    "    Corrected text:\n",
    "    \"\"\"\n",
    "    return llm.invoke(ocr_correction_prompt).content"
   ]
  },
  {
   "cell_type": "code",
   "execution_count": null,
   "metadata": {},
   "outputs": [],
   "source": [
    "contexto = \"\"\n",
    "texto_completo = []\n",
    "for i, chunk in enumerate(chunks):\n",
    "    contexto = correcao_ocr(chunk, contexto)\n",
    "    texto_completo.append(contexto)\n",
    "print(' '.join(texto_completo))"
   ]
  },
  {
   "cell_type": "code",
   "execution_count": null,
   "metadata": {},
   "outputs": [],
   "source": [
    "print(len(texto_completo))\n",
    "\n",
    "print(texto_completo)"
   ]
  },
  {
   "cell_type": "code",
   "execution_count": null,
   "metadata": {},
   "outputs": [],
   "source": [
    "prompt = \"\"\"Remova as quebras de linhas desnecessárias do texto abaixo:\n",
    "\n",
    "\n",
    "CCI - 1.088/2024 - CCS Brasília/DF, 8 de agosto de 2024.\n",
    "\n",
    "Às entidades do Sicoob.\n",
    "\n",
    "Orientações para a criação do Plano de Ação do Ciclo 2025 das cooperativas centrais e\n",
    "\n",
    "singulares, referentes aos programas do Portfólio do Instituto Sicoob\n",
    "\"\"\"\n",
    "print(llm.invoke(prompt).content)"
   ]
  }
 ],
 "metadata": {
  "kernelspec": {
   "display_name": "Python 3",
   "language": "python",
   "name": "python3"
  },
  "language_info": {
   "codemirror_mode": {
    "name": "ipython",
    "version": 3
   },
   "file_extension": ".py",
   "mimetype": "text/x-python",
   "name": "python",
   "nbconvert_exporter": "python",
   "pygments_lexer": "ipython3",
   "version": "3.10.12"
  }
 },
 "nbformat": 4,
 "nbformat_minor": 2
}
