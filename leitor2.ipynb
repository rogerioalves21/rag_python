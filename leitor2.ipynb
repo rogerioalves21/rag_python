{
 "cells": [
  {
   "cell_type": "code",
   "execution_count": 2,
   "metadata": {},
   "outputs": [],
   "source": [
    "import tabula\n",
    "import PyPDF2"
   ]
  },
  {
   "cell_type": "code",
   "execution_count": 21,
   "metadata": {},
   "outputs": [
    {
     "data": {
      "text/html": [
       "<div>\n",
       "<style scoped>\n",
       "    .dataframe tbody tr th:only-of-type {\n",
       "        vertical-align: middle;\n",
       "    }\n",
       "\n",
       "    .dataframe tbody tr th {\n",
       "        vertical-align: top;\n",
       "    }\n",
       "\n",
       "    .dataframe thead th {\n",
       "        text-align: right;\n",
       "    }\n",
       "</style>\n",
       "<table border=\"1\" class=\"dataframe\">\n",
       "  <thead>\n",
       "    <tr style=\"text-align: right;\">\n",
       "      <th></th>\n",
       "      <th>Data</th>\n",
       "      <th>Descrição</th>\n",
       "      <th>Responsável</th>\n",
       "    </tr>\n",
       "  </thead>\n",
       "  <tbody>\n",
       "    <tr>\n",
       "      <th>0</th>\n",
       "      <td>Até 31/10/2024</td>\n",
       "      <td>Envio da planilha Plano de Ação 2025 por meio ...</td>\n",
       "      <td>Cooperativas centrais</td>\n",
       "    </tr>\n",
       "    <tr>\n",
       "      <th>1</th>\n",
       "      <td>Até 5/11/2024</td>\n",
       "      <td>Análiseevalidaçãodasplanilhasrecebidasno\\rPort...</td>\n",
       "      <td>CCS</td>\n",
       "    </tr>\n",
       "  </tbody>\n",
       "</table>\n",
       "</div>"
      ],
      "text/plain": [
       "             Data                                          Descrição  \\\n",
       "0  Até 31/10/2024  Envio da planilha Plano de Ação 2025 por meio ...   \n",
       "1   Até 5/11/2024  Análiseevalidaçãodasplanilhasrecebidasno\\rPort...   \n",
       "\n",
       "             Responsável  \n",
       "0  Cooperativas centrais  \n",
       "1                    CCS  "
      ]
     },
     "metadata": {},
     "output_type": "display_data"
    }
   ],
   "source": [
    "\n",
    "\n",
    "def extract_tables_from_pdf(file_path):\n",
    "    # Open the PDF file\n",
    "    pdf_file = open(file_path, 'rb')\n",
    "    pdf_reader = PyPDF2.PdfReader(pdf_file)\n",
    "\n",
    "    # Get the number of pages in the PDF\n",
    "    num_pages = len(pdf_reader.pages)\n",
    "\n",
    "    # Initialize an empty list to store the extracted tables\n",
    "    tables = []\n",
    "\n",
    "    # Iterate over each page in the PDF\n",
    "    for page_num in range(num_pages):\n",
    "        # Extract the tables from the current page\n",
    "        page_tables = tabula.read_pdf(file_path, pages=page_num+1, multiple_tables=True)\n",
    "\n",
    "        # Add the extracted tables to the list\n",
    "        tables.extend(page_tables)\n",
    "\n",
    "    # Close the PDF file\n",
    "    pdf_file.close()\n",
    "\n",
    "    return tables\n",
    "\n",
    "# Example usage:\n",
    "caminho_pdf = './files/old_pdfs/CCI1.088_2024.pdf' # './files/old_pdfs/CCI1.088_2024.pdf'\n",
    "tables = extract_tables_from_pdf(caminho_pdf)\n",
    "\n",
    "# Print the extracted tables\n",
    "for table in tables:\n",
    "    display(table)"
   ]
  },
  {
   "cell_type": "code",
   "execution_count": 22,
   "metadata": {},
   "outputs": [
    {
     "ename": "AttributeError",
     "evalue": "'Page' object has no attribute 'get_tables'",
     "output_type": "error",
     "traceback": [
      "\u001b[1;31m---------------------------------------------------------------------------\u001b[0m",
      "\u001b[1;31mAttributeError\u001b[0m                            Traceback (most recent call last)",
      "Cell \u001b[1;32mIn[22], line 5\u001b[0m\n\u001b[0;32m      3\u001b[0m doc \u001b[38;5;241m=\u001b[39m fitz\u001b[38;5;241m.\u001b[39mopen(\u001b[38;5;124m'\u001b[39m\u001b[38;5;124m./files/old_pdfs/CCI1.088_2024.pdf\u001b[39m\u001b[38;5;124m'\u001b[39m)\n\u001b[0;32m      4\u001b[0m \u001b[38;5;28;01mfor\u001b[39;00m page \u001b[38;5;129;01min\u001b[39;00m doc:\n\u001b[1;32m----> 5\u001b[0m     tables \u001b[38;5;241m=\u001b[39m \u001b[43mpage\u001b[49m\u001b[38;5;241;43m.\u001b[39;49m\u001b[43mget_tables\u001b[49m()\n\u001b[0;32m      6\u001b[0m     \u001b[38;5;28;01mfor\u001b[39;00m table \u001b[38;5;129;01min\u001b[39;00m tables:\n\u001b[0;32m      7\u001b[0m         \u001b[38;5;28mprint\u001b[39m(table)\n",
      "\u001b[1;31mAttributeError\u001b[0m: 'Page' object has no attribute 'get_tables'"
     ]
    }
   ],
   "source": [
    "import fitz\n",
    "\n",
    "doc = fitz.open('./files/old_pdfs/CCI1.088_2024.pdf')\n",
    "for page in doc:\n",
    "    tables = page.get_tables()\n",
    "    for table in tables:\n",
    "        print(table)"
   ]
  }
 ],
 "metadata": {
  "kernelspec": {
   "display_name": "Python 3",
   "language": "python",
   "name": "python3"
  },
  "language_info": {
   "codemirror_mode": {
    "name": "ipython",
    "version": 3
   },
   "file_extension": ".py",
   "mimetype": "text/x-python",
   "name": "python",
   "nbconvert_exporter": "python",
   "pygments_lexer": "ipython3",
   "version": "3.12.4"
  }
 },
 "nbformat": 4,
 "nbformat_minor": 2
}
