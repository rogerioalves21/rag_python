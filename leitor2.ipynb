{
 "cells": [
  {
   "cell_type": "code",
   "execution_count": 2,
   "metadata": {},
   "outputs": [],
   "source": [
    "import tabula\n",
    "import PyPDF2"
   ]
  },
  {
   "cell_type": "code",
   "execution_count": 21,
   "metadata": {},
   "outputs": [
    {
     "data": {
      "text/html": [
       "<div>\n",
       "<style scoped>\n",
       "    .dataframe tbody tr th:only-of-type {\n",
       "        vertical-align: middle;\n",
       "    }\n",
       "\n",
       "    .dataframe tbody tr th {\n",
       "        vertical-align: top;\n",
       "    }\n",
       "\n",
       "    .dataframe thead th {\n",
       "        text-align: right;\n",
       "    }\n",
       "</style>\n",
       "<table border=\"1\" class=\"dataframe\">\n",
       "  <thead>\n",
       "    <tr style=\"text-align: right;\">\n",
       "      <th></th>\n",
       "      <th>Data</th>\n",
       "      <th>Descrição</th>\n",
       "      <th>Responsável</th>\n",
       "    </tr>\n",
       "  </thead>\n",
       "  <tbody>\n",
       "    <tr>\n",
       "      <th>0</th>\n",
       "      <td>Até 31/10/2024</td>\n",
       "      <td>Envio da planilha Plano de Ação 2025 por meio ...</td>\n",
       "      <td>Cooperativas centrais</td>\n",
       "    </tr>\n",
       "    <tr>\n",
       "      <th>1</th>\n",
       "      <td>Até 5/11/2024</td>\n",
       "      <td>Análiseevalidaçãodasplanilhasrecebidasno\\rPort...</td>\n",
       "      <td>CCS</td>\n",
       "    </tr>\n",
       "  </tbody>\n",
       "</table>\n",
       "</div>"
      ],
      "text/plain": [
       "             Data                                          Descrição  \\\n",
       "0  Até 31/10/2024  Envio da planilha Plano de Ação 2025 por meio ...   \n",
       "1   Até 5/11/2024  Análiseevalidaçãodasplanilhasrecebidasno\\rPort...   \n",
       "\n",
       "             Responsável  \n",
       "0  Cooperativas centrais  \n",
       "1                    CCS  "
      ]
     },
     "metadata": {},
     "output_type": "display_data"
    }
   ],
   "source": [
    "\n",
    "\n",
    "def extract_tables_from_pdf(file_path):\n",
    "    # Open the PDF file\n",
    "    pdf_file = open(file_path, 'rb')\n",
    "    pdf_reader = PyPDF2.PdfReader(pdf_file)\n",
    "\n",
    "    # Get the number of pages in the PDF\n",
    "    num_pages = len(pdf_reader.pages)\n",
    "\n",
    "    # Initialize an empty list to store the extracted tables\n",
    "    tables = []\n",
    "\n",
    "    # Iterate over each page in the PDF\n",
    "    for page_num in range(num_pages):\n",
    "        # Extract the tables from the current page\n",
    "        page_tables = tabula.read_pdf(file_path, pages=page_num+1, multiple_tables=True)\n",
    "\n",
    "        # Add the extracted tables to the list\n",
    "        tables.extend(page_tables)\n",
    "\n",
    "    # Close the PDF file\n",
    "    pdf_file.close()\n",
    "\n",
    "    return tables\n",
    "\n",
    "# Example usage:\n",
    "caminho_pdf = './files/old_pdfs/CCI1.088_2024.pdf' # './files/old_pdfs/CCI1.088_2024.pdf'\n",
    "tables = extract_tables_from_pdf(caminho_pdf)\n",
    "\n",
    "# Print the extracted tables\n",
    "for table in tables:\n",
    "    display(table)"
   ]
  },
  {
   "cell_type": "code",
   "execution_count": 22,
   "metadata": {},
   "outputs": [
    {
     "ename": "AttributeError",
     "evalue": "'Page' object has no attribute 'get_tables'",
     "output_type": "error",
     "traceback": [
      "\u001b[1;31m---------------------------------------------------------------------------\u001b[0m",
      "\u001b[1;31mAttributeError\u001b[0m                            Traceback (most recent call last)",
      "Cell \u001b[1;32mIn[22], line 5\u001b[0m\n\u001b[0;32m      3\u001b[0m doc \u001b[38;5;241m=\u001b[39m fitz\u001b[38;5;241m.\u001b[39mopen(\u001b[38;5;124m'\u001b[39m\u001b[38;5;124m./files/old_pdfs/CCI1.088_2024.pdf\u001b[39m\u001b[38;5;124m'\u001b[39m)\n\u001b[0;32m      4\u001b[0m \u001b[38;5;28;01mfor\u001b[39;00m page \u001b[38;5;129;01min\u001b[39;00m doc:\n\u001b[1;32m----> 5\u001b[0m     tables \u001b[38;5;241m=\u001b[39m \u001b[43mpage\u001b[49m\u001b[38;5;241;43m.\u001b[39;49m\u001b[43mget_tables\u001b[49m()\n\u001b[0;32m      6\u001b[0m     \u001b[38;5;28;01mfor\u001b[39;00m table \u001b[38;5;129;01min\u001b[39;00m tables:\n\u001b[0;32m      7\u001b[0m         \u001b[38;5;28mprint\u001b[39m(table)\n",
      "\u001b[1;31mAttributeError\u001b[0m: 'Page' object has no attribute 'get_tables'"
     ]
    }
   ],
   "source": [
    "import fitz\n",
    "\n",
    "doc = fitz.open('./files/old_pdfs/CCI1.088_2024.pdf')\n",
    "for page in doc:\n",
    "    tables = page.get_tables()\n",
    "    for table in tables:\n",
    "        print(table)"
   ]
  },
  {
   "cell_type": "code",
   "execution_count": 1,
   "metadata": {},
   "outputs": [],
   "source": [
    "import ollama"
   ]
  },
  {
   "cell_type": "code",
   "execution_count": 12,
   "metadata": {},
   "outputs": [
    {
     "name": "stdout",
     "output_type": "stream",
     "text": [
      "This document outlines the functionalities available within the Sicoob Partner Plus platform for managing non-cooperative entities. Let's break down the information provided:\n",
      "\n",
      "**1.  CPF/CNPJ Field Updates:**\n",
      "\n",
      "* **Objective:** This functionality aims to standardize the fields \"CPF\" and \"Nome\" (Name) in the list of non-cooperative entities.\n",
      "* **Path:** The path to access this functionality is through the \"Simulação não associado\" (Non-Associative Simulation) section on the Sicoob Partner Plus platform.\n",
      "\n",
      "**2.  Classifications for Non-Cooperatives:**\n",
      "\n",
      "* **Objective:** This function allows users to classify non-cooperative entities based on their type.\n",
      "* **Path:** The path is through the \"Simulação não associado\" (Non-Associative Simulation) section of the Sicoob Partner Plus platform. \n",
      "\n",
      "**3.  New Non-Cooperative Registration:**\n",
      "\n",
      "* **Objective:** This functionality enables users to register new non-cooperative entities.\n",
      "* **Path:** Users can access this functionality through the \"Simulação não associado\" (Non-Associative Simulation) section on the Sicoob Partner Plus platform.\n",
      "\n",
      "**4.  Analítico de Operações de Crédito – Parceiro Mais (Credit Operations Analytics - Partner Plus):**\n",
      "\n",
      "* **Objective:** This function allows users to filter and analyze credit operations data for partner entities.\n",
      "* **Path:** The path is through Sisbr 2.0, a platform for credit management within the Sicoob system. Users can access this functionality by navigating to \"Plataforma de Crédito\" (Credit Platform), then \"Administração de Crédito\" (Credit Administration), and finally \"Relatórios\" (Reports).\n",
      "\n",
      "**5.  Sintético de Operações de Crédito – Parceiro Mais (Credit Operations Synthesis - Partner Plus):**\n",
      "\n",
      "* **Objective:** This function provides a comprehensive report on credit operations for partner entities, including filtering options.\n",
      "* **Path:** The path is through Sisbr 2.0, the same platform as the previous functionality. Users can access this by navigating to \"Plataforma de Crédito\" (Credit Platform), then \"Administração de Crédito\" (Credit Administration), and finally \"Sintéticos\" (Synthetics).\n",
      "\n",
      "**6.  Search Functionality:**\n",
      "\n",
      "* **Objective:** This section provides a list of available functionalities for searching within the Sicoob Partner Plus platform.\n",
      "* **Path:** The path is through the \"Portal de Serviços do CCS\" (CCS Service Portal) and includes specific codes to access different functionalities. \n",
      "\n",
      "**7.  Access Levels:**\n",
      "\n",
      "* **Objective:** This section outlines the required access levels for accessing certain functionalities within the Sicoob Partner Plus platform.\n",
      "* **Path:** The path is through the \"Portal de Serviços do CCS\" (CCS Service Portal) and includes specific codes to access different functionalities based on user roles. \n",
      "\n",
      "\n",
      "**Key Takeaways:**\n",
      "\n",
      "* The document provides a comprehensive overview of various functionalities available in the Sicoob Partner Plus platform for managing non-cooperative entities.\n",
      "* It emphasizes the importance of using the correct search codes to access these functionalities.\n",
      "* Users with specific access levels are required to access certain functionalities, highlighting the need for proper authentication and authorization. \n",
      "\n",
      "\n",
      "Let me know if you have any other questions or would like further clarification on any of these points! "
     ]
    }
   ],
   "source": [
    "from ollama import chat\n",
    "from ollama import AsyncClient\n",
    "\n",
    "with open('./files/pdfs/PDF.txt', 'r', encoding='utf-8') as f:\n",
    "    context = f.read()\n",
    "    messages = [\n",
    "    {\n",
    "        'role': 'user',\n",
    "        'content': f'Use o texto abaixo para responder a questão \\\"De acordo com o texto, qual é a classificação da demanda? Responda de forma curta e concisa.\\\"\\n\\n###TEXTO###\\n\\n```{context}```',\n",
    "    },\n",
    "    ]\n",
    "\n",
    "    output = ''\n",
    "    async for part in await AsyncClient().chat(\n",
    "        'gemma2:2b-instruct-q4_K_M',\n",
    "        messages=messages,\n",
    "        stream=True, keep_alive='1h',\n",
    "        options={\"temperature\": 0}\n",
    "    ):print(part['message']['content'], end='', flush=True)\n",
    "    "
   ]
  }
 ],
 "metadata": {
  "kernelspec": {
   "display_name": "Python 3",
   "language": "python",
   "name": "python3"
  },
  "language_info": {
   "codemirror_mode": {
    "name": "ipython",
    "version": 3
   },
   "file_extension": ".py",
   "mimetype": "text/x-python",
   "name": "python",
   "nbconvert_exporter": "python",
   "pygments_lexer": "ipython3",
   "version": "3.10.12"
  }
 },
 "nbformat": 4,
 "nbformat_minor": 2
}
