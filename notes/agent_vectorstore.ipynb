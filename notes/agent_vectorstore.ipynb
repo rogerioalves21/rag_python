{
 "cells": [
  {
   "cell_type": "markdown",
   "id": "68b24990",
   "metadata": {},
   "source": [
    "# Combine agents and vector stores\n",
    "\n",
    "This notebook covers how to combine agents and vector stores. The use case for this is that you've ingested your data into a vector store and want to interact with it in an agentic manner.\n",
    "\n",
    "The recommended method for doing so is to create a `RetrievalQA` and then use that as a tool in the overall agent. Let's take a look at doing this below. You can do this with multiple different vector DBs, and use the agent as a way to route between them. There are two different ways of doing this - you can either let the agent use the vector stores as normal tools, or you can set `return_direct=True` to really just use the agent as a router."
   ]
  },
  {
   "cell_type": "markdown",
   "id": "9b22020a",
   "metadata": {},
   "source": [
    "## Create the vector store"
   ]
  },
  {
   "cell_type": "code",
   "execution_count": 36,
   "id": "2e87c10a",
   "metadata": {},
   "outputs": [],
   "source": [
    "from langchain.chains import RetrievalQA\n",
    "from langchain_chroma import Chroma\n",
    "from langchain_ollama import ChatOllama, OllamaEmbeddings\n",
    "from langchain_text_splitters import CharacterTextSplitter, RecursiveCharacterTextSplitter\n",
    "\n",
    "llm = ChatOllama(model=\"qwen2:0.5b-instruct-fp16\",temperature=0)"
   ]
  },
  {
   "cell_type": "code",
   "execution_count": 59,
   "id": "0b7b772b",
   "metadata": {},
   "outputs": [
    {
     "name": "stdout",
     "output_type": "stream",
     "text": [
      "['/', 'home', 'rogerio_rodrigues', 'python-workspace', 'rag_python', 'notes']\n"
     ]
    },
    {
     "data": {
      "text/plain": [
       "('/home/rogerio_rodrigues/python-workspace/rag_python/notes/CCI1010.pdf',\n",
       " '/home/rogerio_rodrigues/python-workspace/rag_python/notes/CCI1477.pdf')"
      ]
     },
     "execution_count": 59,
     "metadata": {},
     "output_type": "execute_result"
    }
   ],
   "source": [
    "from pathlib import Path\n",
    "\n",
    "relevant_parts_pdf = []\n",
    "for p in Path(\".\").absolute().parts:\n",
    "    relevant_parts_pdf.append(p)\n",
    "    if relevant_parts_pdf[-3:] == [\"langchain\", \"docs\", \"modules\"]:\n",
    "        break\n",
    "print(relevant_parts_pdf)\n",
    "doc_path_pdf_01 = str(Path(*relevant_parts_pdf) / \"CCI1010.pdf\")\n",
    "doc_path_pdf_02 = str(Path(*relevant_parts_pdf) / \"CCI1477.pdf\")\n",
    "doc_path_pdf_01, doc_path_pdf_02"
   ]
  },
  {
   "cell_type": "code",
   "execution_count": 61,
   "id": "69f3e7eb",
   "metadata": {},
   "outputs": [
    {
     "name": "stderr",
     "output_type": "stream",
     "text": [
      "/home/rogerio_rodrigues/.local/lib/python3.10/site-packages/pypdfium2/_helpers/textpage.py:80: UserWarning: get_text_range() call with default params will be implicitly redirected to get_text_bounded()\n",
      "  warnings.warn(\"get_text_range() call with default params will be implicitly redirected to get_text_bounded()\")\n"
     ]
    }
   ],
   "source": [
    "from langchain_community.document_loaders import TextLoader, PyPDFium2Loader\n",
    "\n",
    "def get_documents(file: str):\n",
    "    loader        = PyPDFium2Loader(file)\n",
    "    documents     = loader.load()\n",
    "    text_splitter = RecursiveCharacterTextSplitter(chunk_size=1000, chunk_overlap=3)\n",
    "    texts         = text_splitter.split_documents(documents)\n",
    "    return texts\n",
    "\n",
    "documents = []\n",
    "documents.extend(get_documents(doc_path_pdf_01))\n",
    "documents.extend(get_documents(doc_path_pdf_02))\n",
    "embeddings    = OllamaEmbeddings(model=\"nomic-embed-text\")\n",
    "docsearch     = Chroma.from_documents(documents, embeddings, collection_name=\"cci_pdf\")"
   ]
  },
  {
   "cell_type": "code",
   "execution_count": 62,
   "id": "770dc6f4",
   "metadata": {},
   "outputs": [
    {
     "name": "stdout",
     "output_type": "stream",
     "text": [
      "\n",
      "# -------------------------------------------------\n",
      "\n",
      "page_content='#RESTRITA#\n",
      "CCI – 1.010/2024 - CCS Brasília/DF, 31 de julho de 2024.\n",
      "Às entidades do Sicoob.\n",
      "Evolução da funcionalidade Multicálculo Automóvel no Sistema Integrado para Gestão e \n",
      "Aquisição de Seguros do Sicoob (SicoobSigas) do Sisbr 3.0, referente às mudanças na \n",
      "integração das seguradoras Porto e Azul.\n",
      "Senhores(as),\n",
      "1. Com as mudanças na integração das seguradoras Porto e Azul, informamos a \n",
      "evolução da funcionalidade Multicálculo Automóvel no SicoobSigas do Sisbr 3.0, \n",
      "realizada em 24/7/2024, contemplando as seguintes alterações nas companhias:\n",
      "a) a partir de 24/7/2024, os cálculos realizados não serão salvos. Após essa data, \n",
      "será necessário criar uma simulação para calcular ou contratar seguros;\n",
      "b) nas renovações de seguros com vigência a partir de 23/8/2024, será \n",
      "apresentado um pacote fechado de condição exclusiva de cada seguradora. \n",
      "Não será válido o recálculo ou ajustes de coberturas;' metadata={'source': '/home/rogerio_rodrigues/python-workspace/rag_python/notes/CCI1010.pdf', 'page': 0}\n",
      "\n",
      "# -------------------------------------------------\n",
      "\n",
      "\n",
      "# -------------------------------------------------\n",
      "\n",
      "page_content='c) para os casos em que há uma recusa no produto tradicional, disponibilizamos \n",
      "uma oferta alternativa, denominada Cotação para Todos, com condições \n",
      "adequadas para cada cooperado. Nessa oferta, serão apresentadas as \n",
      "coberturas de Incêndio, Roubo e Furto, Compreensiva Fipe de até 80% (oitenta \n",
      "por cento) ou RCF. Não será válido recálculo ou ajustes de coberturas;\n",
      "d) o Desconto Cota Prêmio está disponível na opção Condições Especiais, \n",
      "conforme o saldo acumulado da corretora. O desconto não é aplicável para o \n",
      "pacote de renovação;\n",
      "e) quando exigida a vistoria prévia pela seguradora, será apresentada na tela de \n",
      "contratação a seguinte mensagem, com o link para baixar o aplicativo de' metadata={'source': '/home/rogerio_rodrigues/python-workspace/rag_python/notes/CCI1010.pdf', 'page': 0}\n",
      "\n",
      "# -------------------------------------------------\n",
      "\n",
      "\n",
      "# -------------------------------------------------\n",
      "\n",
      "page_content='#RESTRITA#\n",
      "vistoria da seguradora: \n",
      "Contratação realizada com sucesso! Proposta gerada na seguradora. Atenção, \n",
      "existem pendências na segurada. Para a contratação do seu seguro é preciso \n",
      "efetuar a vistoria prévia digital. Baixe o App da vistoria através do link.\n",
      "1.1 O usuário poderá acessar a funcionalidade Multicálculo Automóvel, utilizando o\n",
      "seguinte caminho: Sisbr 2.0 → Sigas (Direcionamento para o Sisbr 3.0) → Nome ou \n",
      "CPF/CNPJ → Novo Negócio → Portal de Vendas → Automóvel Multicálculo.\n",
      "As funcionalidades estão disponíveis para o usuário que possui, pelo menos, um dos\n",
      "seguintes perfis de acesso:\n",
      "Perfil de acesso\n",
      "Atendimento I, II, III e IV; Crédito I, II, III, IV e V; Retaguarda I, II, III e IV.\n",
      "Informações relacionadas à Matriz de Acesso do Centro Cooperativo Sicoob (CCS) \n",
      "estão disponíveis para consulta no Portal de Serviços do CCS (Base de Conhecimento), \n",
      "ao informar o código de identificação IC 9118 no campo de pesquisa.' metadata={'source': '/home/rogerio_rodrigues/python-workspace/rag_python/notes/CCI1010.pdf', 'page': 1}\n",
      "\n",
      "# -------------------------------------------------\n",
      "\n",
      "\n",
      "# -------------------------------------------------\n",
      "\n",
      "page_content='Para as cooperativas que não utilizam a Matriz de Acesso, a atribuição das permissões \n",
      "deverá serrealizada de forma descentralizada aos gestores de acesso, porintermédio \n",
      "da cooperativa central ou singular.' metadata={'source': '/home/rogerio_rodrigues/python-workspace/rag_python/notes/CCI1010.pdf', 'page': 1}\n",
      "\n",
      "# -------------------------------------------------\n",
      "\n",
      "\n",
      "# -------------------------------------------------\n",
      "\n",
      "page_content='#RESTRITA#\n",
      "Suporte às cooperativas\n",
      "Eventuais pedidos de esclarecimentos deverão ser direcionados para o Portal de \n",
      "Serviços do CCS, por meio de abertura de chamado, utilizando a seguinte \n",
      "categorização: Atendimento à Cooperativa → Seguros → Seguro Automóvel →\n",
      "Dúvidas Negociais do Produto – Seguro Automóvel.\n",
      "Atenciosamente,\n",
      "Edson Rodrigues Lisboa Júnior Henrique Neves Jersey\n",
      "Sistemas de Informação I\n",
      "Superintendente\n",
      "Comercial de Seguros Gerais\n",
      "Gerente' metadata={'source': '/home/rogerio_rodrigues/python-workspace/rag_python/notes/CCI1010.pdf', 'page': 2}\n",
      "\n",
      "# -------------------------------------------------\n",
      "\n",
      "\n",
      "# -------------------------------------------------\n",
      "\n",
      "page_content='Origem: CCS\n",
      "#RESTRITA# 1/2\n",
      "CCI - 1.477/2023 - CCS Brasília/DF, 23 de novembro de 2023.\n",
      "Às entidades do Sicoob.\n",
      "Assunto: Remanejamento de valores de benefícios do cartão Coopcerto\n",
      "(alimentação e refeição) pela atendente digital Alice, por meio do \n",
      "WhatsApp.\n",
      "Senhores(as),\n",
      "1. Dando continuidade às melhorias e entregas direcionadas para as entidades do \n",
      "Sicoob, informamos que, a partir de 1º/12/2023, os empregados das cooperativas \n",
      "centrais, das cooperativas singulares e do Centro Cooperativo Sicoob (CCS)\n",
      "poderão requisitar de maneira automática o remanejamento dos valores de \n",
      "benefícios dos cartões Coopcerto, nas modalidades vale alimentação e vale \n",
      "refeição, tornando a ação de mudança mais ágil e descomplicada.\n",
      "2. Esse novo mecanismo de remanejamento é destinado exclusivamente às 258\n",
      "(duzentas e cinquenta e oito) entidades que utilizam o sistema RM como software\n",
      "de gestão na base do CCS e será regido pelas diretrizes definidas pelo' metadata={'source': '/home/rogerio_rodrigues/python-workspace/rag_python/notes/CCI1477.pdf', 'page': 0}\n",
      "\n",
      "# -------------------------------------------------\n",
      "\n",
      "\n",
      "# -------------------------------------------------\n",
      "\n",
      "page_content='departamento pessoal de cada entidade do Sicoob.\n",
      "3. O mecanismo foi desenvolvido para otimizar os recursos e conceder autonomia aos \n",
      "empregados na realização de remanejamentos conforme suas necessidades, \n",
      "seguindo as regras predefinidas nos respectivos acordos coletivos.\n",
      "4. A fim de parametrizar as regras negociais para os remanejamentos dos benefícios,\n",
      "disponibilizamos itens de conhecimento no Portal de Serviços do CCS (Base de \n",
      "Conhecimento) para auxiliar as cooperativas com a jornada de cadastro a ser \n",
      "realizada previamente no sistema RM.\n",
      "5. O canal escolhido para o remanejamento será o WhatsApp, que estará vinculado \n",
      "ao mesmo contato da Central de Atendimento às Cooperativas do CCS, pelo \n",
      "número (61) 3771-6600. Este canal tem por objetivo complementar ao chat do \n",
      "Sicoob, em caráter experimental e exclusivo, para o serviço de remanejamento de \n",
      "benefícios.\n",
      "6. Evidenciamos também a preocupação com a segurança implementada, em que a' metadata={'source': '/home/rogerio_rodrigues/python-workspace/rag_python/notes/CCI1477.pdf', 'page': 0}\n",
      "\n",
      "# -------------------------------------------------\n",
      "\n",
      "\n",
      "# -------------------------------------------------\n",
      "\n",
      "page_content='forma de autenticação, como ocorre nos outros sistemas será realizada em dois \n",
      "passos: i) por meio da senha do próprio usuário; e ii) pelo envio de código de \n",
      "segurança temporário para o celular do colaborador previamente cadastrado. Após \n",
      "a autenticação, o usuário será liberado para utilizar a funcionalidade.\n",
      "7. O empregado poderá realizar a realocação de seus benefícios, seguindo as \n",
      "instruções fornecidas pela atendente digital Alice. Em caso de dúvidas sobre as \n",
      "regras aplicadas, o empregado deverá procurar o departamento pessoal de sua \n",
      "entidade correspondente.' metadata={'source': '/home/rogerio_rodrigues/python-workspace/rag_python/notes/CCI1477.pdf', 'page': 0}\n",
      "\n",
      "# -------------------------------------------------\n",
      "\n",
      "\n",
      "# -------------------------------------------------\n",
      "\n",
      "page_content='Origem: CCS\n",
      "#RESTRITA# 2/2\n",
      "8. Ressaltamos que o canal telefônico (61) 3771-6600 e o Portal de Serviços do CCS \n",
      "(https://atendimento.sisbr.coop.br) permanecem como meio de contato das\n",
      "cooperativas centrais e singulares, dos parceiros e das entidades do CCS.\n",
      "9. Os procedimentos e as instruções estão disponíveis no Portal de Serviços do CCS \n",
      "(Base de Conhecimento), ao informar os seguintes códigos de identificação no \n",
      "campo de pesquisa:\n",
      "Código Descrição\n",
      "IC 26469 Acesso - Chat WhatsApp - Entidades CCS\n",
      "IC 26470 Parametrização/Geração do Benefício \n",
      "VA/VR - Coopcerto - RM Labore\n",
      "10. Eventuais pedidos de esclarecimentos deverão ser direcionados para a Central de \n",
      "Atendimento à Cooperativa, no número (61) 3771-6600, opção 0, item 3, subitem \n",
      "1; ou por meio de abertura de chamado no Portal de Serviços do CCS, utilizando a \n",
      "seguinte categorização: Atendimento à Cooperativa → Gestão Empresarial e de \n",
      "Pessoas → RM (Bonum/Labore/Segurança e Saúde Ocupacional) → RM – Folha' metadata={'source': '/home/rogerio_rodrigues/python-workspace/rag_python/notes/CCI1477.pdf', 'page': 1}\n",
      "\n",
      "# -------------------------------------------------\n",
      "\n",
      "\n",
      "# -------------------------------------------------\n",
      "\n",
      "page_content='de Pagamento → Eventos.\n",
      "Atenciosamente, \n",
      "Original assinada por\n",
      "Fábia Lorena Rosi Mantovanelli José Vicente da Silva\n",
      "Centro de Serviços Compartilhados (CSC)\n",
      "de Processos Empresariais\n",
      "Superintendente\n",
      "Administrativo\n",
      "Superintendente\n",
      "Edson Rodrigues Lisboa Júnior Fernando Gabriel Martinovich\n",
      "Sistemas de Informação I\n",
      "Superintendente\n",
      "Atendimento\n",
      "Superintendente\n",
      "Brunno Giordano Mello Silva\n",
      "Sistemas de Informação II\n",
      "Superintendente' metadata={'source': '/home/rogerio_rodrigues/python-workspace/rag_python/notes/CCI1477.pdf', 'page': 1}\n",
      "\n",
      "# -------------------------------------------------\n",
      "\n"
     ]
    }
   ],
   "source": [
    "for doc in documents:\n",
    "    print(\"\\n# -------------------------------------------------\\n\")\n",
    "    print(doc)\n",
    "    print(\"\\n# -------------------------------------------------\\n\")\n"
   ]
  },
  {
   "cell_type": "code",
   "execution_count": 82,
   "id": "f75f413e",
   "metadata": {},
   "outputs": [
    {
     "name": "stdout",
     "output_type": "stream",
     "text": [
      "[Document(metadata={'page': 1, 'source': '/home/rogerio_rodrigues/python-workspace/rag_python/notes/CCI1010.pdf'}, page_content='#RESTRITA#\\r\\nvistoria da seguradora:'), Document(metadata={'page': 1, 'source': '/home/rogerio_rodrigues/python-workspace/rag_python/notes/CCI1010.pdf'}, page_content='seguinte caminho: Sisbr 2.0 → Sigas (Direcionamento para o Sisbr 3.0) → Nome ou'), Document(metadata={'page': 0, 'source': '/home/rogerio_rodrigues/python-workspace/rag_python/notes/CCI1010.pdf'}, page_content='a) a partir de 24/7/2024, os cálculos realizados não serão salvos. Após essa data,'), Document(metadata={'page': 1, 'source': '/home/rogerio_rodrigues/python-workspace/rag_python/notes/CCI1010.pdf'}, page_content='Atendimento I, II, III e IV; Crédito I, II, III, IV e V; Retaguarda I, II, III e IV.')]\n",
      "#RESTRITA#\n",
      "\n",
      "vistoria da seguradora:\n",
      "seguinte caminho: Sisbr 2.0 → Sigas (Direcionamento para o Sisbr 3.0) → Nome ou\n",
      "a) a partir de 24/7/2024, os cálculos realizados não serão salvos. Após essa data,\n",
      "Atendimento I, II, III e IV; Crédito I, II, III, IV e V; Retaguarda I, II, III e IV.\n"
     ]
    }
   ],
   "source": [
    "relevant_context = docsearch.as_retriever(query='*',search_type='mmr')\n",
    "    #query=\"Faça um resumo da CCI 1.477\",\n",
    "    #where_document={\"$contains\": \"CCI - 1.477\"},\n",
    "    #fetch_k=20, k=2\n",
    "#)\n",
    "print(relevant_context)\n",
    "for doc in relevant_context:\n",
    "    print(doc.page_content.replace('\\n', '\\n\\n'))"
   ]
  },
  {
   "cell_type": "code",
   "execution_count": 7,
   "id": "f2675861",
   "metadata": {},
   "outputs": [],
   "source": [
    "from langchain_community.document_loaders import TextLoader, PyPDFium2Loader\n",
    "\n",
    "loader        = TextLoader(doc_path)\n",
    "documents     = loader.load()\n",
    "text_splitter = CharacterTextSplitter(chunk_size=1000, chunk_overlap=0)\n",
    "texts         = text_splitter.split_documents(documents)\n",
    "\n",
    "embeddings    = OllamaEmbeddings(model=\"nomic-embed-text\")\n",
    "docsearch     = Chroma.from_documents(texts, embeddings, collection_name=\"cci\")"
   ]
  },
  {
   "cell_type": "code",
   "execution_count": 22,
   "id": "bc5403d4",
   "metadata": {},
   "outputs": [],
   "source": [
    "comunicado_retrieve = RetrievalQA.from_chain_type(\n",
    "    llm=llm, chain_type=\"stuff\", retriever=docsearch.as_retriever()\n",
    ")"
   ]
  },
  {
   "cell_type": "code",
   "execution_count": 9,
   "id": "1431cded",
   "metadata": {},
   "outputs": [
    {
     "name": "stderr",
     "output_type": "stream",
     "text": [
      "USER_AGENT environment variable not set, consider setting it to identify your requests.\n"
     ]
    }
   ],
   "source": [
    "from langchain_community.document_loaders import WebBaseLoader"
   ]
  },
  {
   "cell_type": "code",
   "execution_count": 10,
   "id": "915d3ff3",
   "metadata": {},
   "outputs": [],
   "source": [
    "loader = WebBaseLoader(\"https://beta.ruff.rs/docs/faq/\")"
   ]
  },
  {
   "cell_type": "code",
   "execution_count": 11,
   "id": "96a2edf8",
   "metadata": {},
   "outputs": [
    {
     "name": "stderr",
     "output_type": "stream",
     "text": [
      "Created a chunk of size 2134, which is longer than the specified 1000\n",
      "Created a chunk of size 2470, which is longer than the specified 1000\n",
      "Created a chunk of size 1259, which is longer than the specified 1000\n",
      "Created a chunk of size 1053, which is longer than the specified 1000\n"
     ]
    }
   ],
   "source": [
    "docs       = loader.load()\n",
    "ruff_texts = text_splitter.split_documents(docs)\n",
    "ruff_db    = Chroma.from_documents(ruff_texts, embeddings, collection_name=\"ruff\")\n",
    "ruff       = RetrievalQA.from_chain_type(\n",
    "    llm=llm, chain_type=\"stuff\", retriever=ruff_db.as_retriever()\n",
    ")"
   ]
  },
  {
   "cell_type": "code",
   "execution_count": null,
   "id": "71ecef90",
   "metadata": {},
   "outputs": [],
   "source": []
  },
  {
   "cell_type": "markdown",
   "id": "c0a6c031",
   "metadata": {},
   "source": [
    "## Create the Agent"
   ]
  },
  {
   "cell_type": "code",
   "execution_count": 19,
   "id": "eb142786",
   "metadata": {},
   "outputs": [],
   "source": [
    "# Import things that are needed generically\n",
    "from langchain.agents import AgentType, Tool, initialize_agent, ZeroShotAgent, create_react_agent"
   ]
  },
  {
   "cell_type": "code",
   "execution_count": 23,
   "id": "850bc4e9",
   "metadata": {},
   "outputs": [],
   "source": [
    "tools = [\n",
    "    Tool(\n",
    "        name=\"Comunicado 1.010/2024 QA System\",\n",
    "        func=comunicado_retrieve.run,\n",
    "        description=\"útil para quando você precisa responder a perguntas sobre o comunicado. A entrada deve ser uma pergunta totalmente formada.\",\n",
    "    ),\n",
    "    Tool(\n",
    "        name=\"Ruff QA System\",\n",
    "        func=ruff.run,\n",
    "        description=\"useful for when you need to answer questions about ruff (a python linter). Input should be a fully formed question.\",\n",
    "    ),\n",
    "]"
   ]
  },
  {
   "cell_type": "code",
   "execution_count": 24,
   "id": "fc47f230",
   "metadata": {},
   "outputs": [],
   "source": [
    "# Construct the agent. We will use the default agent type here.\n",
    "# See documentation for a full list of options.\n",
    "agent = initialize_agent(\n",
    "    tools, llm, agent=AgentType.ZERO_SHOT_REACT_DESCRIPTION, verbose=True\n",
    ")"
   ]
  },
  {
   "cell_type": "code",
   "execution_count": 21,
   "id": "10ca2db8",
   "metadata": {},
   "outputs": [
    {
     "name": "stderr",
     "output_type": "stream",
     "text": [
      "/home/rogerio_rodrigues/.local/lib/python3.10/site-packages/langchain_core/_api/deprecation.py:139: LangChainDeprecationWarning: The method `Chain.run` was deprecated in langchain 0.1.0 and will be removed in 0.3.0. Use invoke instead.\n",
      "  warn_deprecated(\n"
     ]
    },
    {
     "name": "stdout",
     "output_type": "stream",
     "text": [
      "\n",
      "\n",
      "\u001b[1m> Entering new AgentExecutor chain...\u001b[0m\n",
      "\u001b[32;1m\u001b[1;3mI need to find information about the evolution of the Multi-Calculator Vehicle function and its connection with the integration of Porto Seguro and Azul Insurance.\n",
      "Action: Comunicado 1.010/2024 QA System\n",
      "Action Input:\u001b[0m"
     ]
    },
    {
     "name": "stderr",
     "output_type": "stream",
     "text": [
      "Number of requested results 4 is greater than number of elements in index 2, updating n_results = 2\n"
     ]
    },
    {
     "name": "stdout",
     "output_type": "stream",
     "text": [
      "\n",
      "Observation: \u001b[36;1m\u001b[1;3mA evolução da funcionalidade Multicálculo Automóvel no Sistema Integrado para Gestão e Aquisição de Seguros do Sicoob (SicoobSigas) do Sisbr 3.0, referente às mudanças na integração das seguradoras Porto e Azul, inclui a alteração da funcionalidade de salvar cálculos realizados após 24/7/2024. Além disso, houve a apresentação de um pacote fechado de condição exclusiva para cada seguradora nas renovações de seguros com vigência a partir de 23/8/2024 e a disponibilização da Cotação para Todos como oferta alternativa. O Desconto Cota Prêmio está disponível na opção Condições Especiais, conforme o saldo acumulado da corretora.\u001b[0m\n",
      "Thought:\u001b[32;1m\u001b[1;3mThe evolution of the Multi-Calculator Vehicle function in the Sicoob Sigas System for Porto and Azul Insurance integration is related to the changes in the system's functionality. The observation indicates that after 24/7/2024, the ability to save calculations made during 24/7/2024 has been added. Additionally, a closed condition exclusive package was presented for each insurance company starting from August 23, 2024, and the All-inclusive quote is now available as an alternative offer. The Discount Cota Prêmio option is also available under Special Conditions, based on the accumulated balance of the insurer.\n",
      "Final Answer: The evolution of the Multi-Calculator Vehicle function in the Sicoob Sigas System for Porto and Azul Insurance integration refers to changes in the system's functionality after 24/7/2024. This includes the ability to save calculations made during this period, as well as a closed condition exclusive package presented for each insurance company starting from August 23, 2024, and the All-inclusive quote being available as an alternative offer. The Discount Cota Prêmio option is also available under Special Conditions, based on the accumulated balance of the insurer.\u001b[0m\n",
      "\n",
      "\u001b[1m> Finished chain.\u001b[0m\n"
     ]
    },
    {
     "data": {
      "text/plain": [
       "\"The evolution of the Multi-Calculator Vehicle function in the Sicoob Sigas System for Porto and Azul Insurance integration refers to changes in the system's functionality after 24/7/2024. This includes the ability to save calculations made during this period, as well as a closed condition exclusive package presented for each insurance company starting from August 23, 2024, and the All-inclusive quote being available as an alternative offer. The Discount Cota Prêmio option is also available under Special Conditions, based on the accumulated balance of the insurer.\""
      ]
     },
     "execution_count": 21,
     "metadata": {},
     "output_type": "execute_result"
    }
   ],
   "source": [
    "agent.run(\n",
    "    \"A evolução da funcionalidade Multicálculo Automóvel se referente às mudanças na integração das seguradoras Porto e Azul?\"\n",
    ")"
   ]
  },
  {
   "cell_type": "code",
   "execution_count": 47,
   "id": "4e91b811",
   "metadata": {},
   "outputs": [
    {
     "name": "stdout",
     "output_type": "stream",
     "text": [
      "\n",
      "\n",
      "\u001b[1m> Entering new AgentExecutor chain...\u001b[0m\n",
      "\u001b[32;1m\u001b[1;3m I need to find out the advantages of using ruff over flake8\n",
      "Action: Ruff QA System\n",
      "Action Input: What are the advantages of using ruff over flake8?\u001b[0m\n",
      "Observation: \u001b[33;1m\u001b[1;3m Ruff can be used as a drop-in replacement for Flake8 when used (1) without or with a small number of plugins, (2) alongside Black, and (3) on Python 3 code. It also re-implements some of the most popular Flake8 plugins and related code quality tools natively, including isort, yesqa, eradicate, and most of the rules implemented in pyupgrade. Ruff also supports automatically fixing its own lint violations, which Flake8 does not.\u001b[0m\n",
      "Thought:\u001b[32;1m\u001b[1;3m I now know the final answer\n",
      "Final Answer: Ruff can be used as a drop-in replacement for Flake8 when used (1) without or with a small number of plugins, (2) alongside Black, and (3) on Python 3 code. It also re-implements some of the most popular Flake8 plugins and related code quality tools natively, including isort, yesqa, eradicate, and most of the rules implemented in pyupgrade. Ruff also supports automatically fixing its own lint violations, which Flake8 does not.\u001b[0m\n",
      "\n",
      "\u001b[1m> Finished chain.\u001b[0m\n"
     ]
    },
    {
     "data": {
      "text/plain": [
       "'Ruff can be used as a drop-in replacement for Flake8 when used (1) without or with a small number of plugins, (2) alongside Black, and (3) on Python 3 code. It also re-implements some of the most popular Flake8 plugins and related code quality tools natively, including isort, yesqa, eradicate, and most of the rules implemented in pyupgrade. Ruff also supports automatically fixing its own lint violations, which Flake8 does not.'"
      ]
     },
     "execution_count": 47,
     "metadata": {},
     "output_type": "execute_result"
    }
   ],
   "source": [
    "agent.run(\"Why use ruff over flake8?\")"
   ]
  },
  {
   "cell_type": "markdown",
   "id": "787a9b5e",
   "metadata": {},
   "source": [
    "## Use the Agent solely as a router"
   ]
  },
  {
   "cell_type": "markdown",
   "id": "9161ba91",
   "metadata": {},
   "source": [
    "You can also set `return_direct=True` if you intend to use the agent as a router and just want to directly return the result of the RetrievalQAChain.\n",
    "\n",
    "Notice that in the above examples the agent did some extra work after querying the RetrievalQAChain. You can avoid that and just return the result directly."
   ]
  },
  {
   "cell_type": "code",
   "execution_count": 25,
   "id": "f59b377e",
   "metadata": {},
   "outputs": [],
   "source": [
    "tools = [\n",
    "    Tool(\n",
    "        name=\"Comunicado 1.010/2024 QA System\",\n",
    "        func=comunicado_retrieve.run,\n",
    "        description=\"útil para quando você precisa responder a perguntas sobre o comunicado. A entrada deve ser uma pergunta totalmente formada.\",\n",
    "        return_direct=True\n",
    "    ),\n",
    "    Tool(\n",
    "        name=\"Ruff QA System\",\n",
    "        func=ruff.run,\n",
    "        description=\"useful for when you need to answer questions about ruff (a python linter). Input should be a fully formed question.\",\n",
    "        return_direct=True\n",
    "    ),\n",
    "]"
   ]
  },
  {
   "cell_type": "code",
   "execution_count": 27,
   "id": "8615707a",
   "metadata": {},
   "outputs": [],
   "source": [
    "agent = initialize_agent(\n",
    "    tools, llm, agent=AgentType.CHAT_ZERO_SHOT_REACT_DESCRIPTION, verbose=True\n",
    ")"
   ]
  },
  {
   "cell_type": "code",
   "execution_count": 28,
   "id": "36e718a9",
   "metadata": {},
   "outputs": [
    {
     "name": "stdout",
     "output_type": "stream",
     "text": [
      "\n",
      "\n",
      "\u001b[1m> Entering new AgentExecutor chain...\u001b[0m\n",
      "\u001b[32;1m\u001b[1;3mThought: The user is asking about the evolution of the MultiCalculation Vehicle function regarding changes in the integration of Porto and Azul insurance companies. I need to find information on this topic.\n",
      "\n",
      "Action:\n",
      "```\n",
      "{\n",
      "  \"action\": \"Comunicado 1.010/2024 QA System\",\n",
      "  \"action_input\": \"A evolução da funcionalidade Multicálculo Automóvel se referente às mudanças na integração das seguradoras Porto e Azul?\"\n",
      "}\n",
      "```\n",
      "\n",
      "\u001b[0m"
     ]
    },
    {
     "name": "stderr",
     "output_type": "stream",
     "text": [
      "Number of requested results 4 is greater than number of elements in index 2, updating n_results = 2\n"
     ]
    },
    {
     "name": "stdout",
     "output_type": "stream",
     "text": [
      "\n",
      "Observation: \u001b[36;1m\u001b[1;3mSim, a evolução da funcionalidade Multicálculo Automóvel no Sistema Integrado para Gestão e Aquisição de Seguros do Sicoob (SicoobSigas) do Sisbr 3.0 se refere às mudanças na integração das seguradoras Porto e Azul. Essa evolução inclui alterações nas companhias, como a necessidade de criar uma simulação para calcular ou contratar seguros após 24/7/2024, apresentação de pacotes fechados de condição exclusiva de cada seguradora, disponibilização de uma oferta alternativa chamada Cotação para Todos com condições adequadas para cada cooperado e a aplicação do Desconto Cota Prêmio na opção Condições Especiais.\u001b[0m\n",
      "\u001b[32;1m\u001b[1;3m\u001b[0m\n",
      "\n",
      "\u001b[1m> Finished chain.\u001b[0m\n"
     ]
    },
    {
     "data": {
      "text/plain": [
       "'Sim, a evolução da funcionalidade Multicálculo Automóvel no Sistema Integrado para Gestão e Aquisição de Seguros do Sicoob (SicoobSigas) do Sisbr 3.0 se refere às mudanças na integração das seguradoras Porto e Azul. Essa evolução inclui alterações nas companhias, como a necessidade de criar uma simulação para calcular ou contratar seguros após 24/7/2024, apresentação de pacotes fechados de condição exclusiva de cada seguradora, disponibilização de uma oferta alternativa chamada Cotação para Todos com condições adequadas para cada cooperado e a aplicação do Desconto Cota Prêmio na opção Condições Especiais.'"
      ]
     },
     "execution_count": 28,
     "metadata": {},
     "output_type": "execute_result"
    }
   ],
   "source": [
    "agent.run(\n",
    "    \"A evolução da funcionalidade Multicálculo Automóvel se referente às mudanças na integração das seguradoras Porto e Azul?\"\n",
    ")"
   ]
  },
  {
   "cell_type": "code",
   "execution_count": 51,
   "id": "edfd0a1a",
   "metadata": {},
   "outputs": [
    {
     "name": "stdout",
     "output_type": "stream",
     "text": [
      "\n",
      "\n",
      "\u001b[1m> Entering new AgentExecutor chain...\u001b[0m\n",
      "\u001b[32;1m\u001b[1;3m I need to find out the advantages of using ruff over flake8\n",
      "Action: Ruff QA System\n",
      "Action Input: What are the advantages of using ruff over flake8?\u001b[0m\n",
      "Observation: \u001b[33;1m\u001b[1;3m Ruff can be used as a drop-in replacement for Flake8 when used (1) without or with a small number of plugins, (2) alongside Black, and (3) on Python 3 code. It also re-implements some of the most popular Flake8 plugins and related code quality tools natively, including isort, yesqa, eradicate, and most of the rules implemented in pyupgrade. Ruff also supports automatically fixing its own lint violations, which Flake8 does not.\u001b[0m\n",
      "\u001b[32;1m\u001b[1;3m\u001b[0m\n",
      "\n",
      "\u001b[1m> Finished chain.\u001b[0m\n"
     ]
    },
    {
     "data": {
      "text/plain": [
       "' Ruff can be used as a drop-in replacement for Flake8 when used (1) without or with a small number of plugins, (2) alongside Black, and (3) on Python 3 code. It also re-implements some of the most popular Flake8 plugins and related code quality tools natively, including isort, yesqa, eradicate, and most of the rules implemented in pyupgrade. Ruff also supports automatically fixing its own lint violations, which Flake8 does not.'"
      ]
     },
     "execution_count": 51,
     "metadata": {},
     "output_type": "execute_result"
    }
   ],
   "source": [
    "agent.run(\"Why use ruff over flake8?\")"
   ]
  },
  {
   "cell_type": "markdown",
   "id": "49a0cbbe",
   "metadata": {},
   "source": [
    "## Multi-Hop vector store reasoning\n",
    "\n",
    "Because vector stores are easily usable as tools in agents, it is easy to use answer multi-hop questions that depend on vector stores using the existing agent framework."
   ]
  },
  {
   "cell_type": "code",
   "execution_count": 57,
   "id": "d397a233",
   "metadata": {},
   "outputs": [],
   "source": [
    "tools = [\n",
    "    Tool(\n",
    "        name=\"State of Union QA System\",\n",
    "        func=state_of_union.run,\n",
    "        description=\"useful for when you need to answer questions about the most recent state of the union address. Input should be a fully formed question, not referencing any obscure pronouns from the conversation before.\",\n",
    "    ),\n",
    "    Tool(\n",
    "        name=\"Ruff QA System\",\n",
    "        func=ruff.run,\n",
    "        description=\"useful for when you need to answer questions about ruff (a python linter). Input should be a fully formed question, not referencing any obscure pronouns from the conversation before.\",\n",
    "    ),\n",
    "]"
   ]
  },
  {
   "cell_type": "code",
   "execution_count": 58,
   "id": "06157240",
   "metadata": {},
   "outputs": [],
   "source": [
    "# Construct the agent. We will use the default agent type here.\n",
    "# See documentation for a full list of options.\n",
    "agent = initialize_agent(\n",
    "    tools, llm, agent=AgentType.ZERO_SHOT_REACT_DESCRIPTION, verbose=True\n",
    ")"
   ]
  },
  {
   "cell_type": "code",
   "execution_count": 59,
   "id": "b492b520",
   "metadata": {},
   "outputs": [
    {
     "name": "stdout",
     "output_type": "stream",
     "text": [
      "\n",
      "\n",
      "\u001b[1m> Entering new AgentExecutor chain...\u001b[0m\n",
      "\u001b[32;1m\u001b[1;3m I need to find out what tool ruff uses to run over Jupyter Notebooks, and if the president mentioned it in the state of the union.\n",
      "Action: Ruff QA System\n",
      "Action Input: What tool does ruff use to run over Jupyter Notebooks?\u001b[0m\n",
      "Observation: \u001b[33;1m\u001b[1;3m Ruff is integrated into nbQA, a tool for running linters and code formatters over Jupyter Notebooks. After installing ruff and nbqa, you can run Ruff over a notebook like so: > nbqa ruff Untitled.html\u001b[0m\n",
      "Thought:\u001b[32;1m\u001b[1;3m I now need to find out if the president mentioned this tool in the state of the union.\n",
      "Action: State of Union QA System\n",
      "Action Input: Did the president mention nbQA in the state of the union?\u001b[0m\n",
      "Observation: \u001b[36;1m\u001b[1;3m No, the president did not mention nbQA in the state of the union.\u001b[0m\n",
      "Thought:\u001b[32;1m\u001b[1;3m I now know the final answer.\n",
      "Final Answer: No, the president did not mention nbQA in the state of the union.\u001b[0m\n",
      "\n",
      "\u001b[1m> Finished chain.\u001b[0m\n"
     ]
    },
    {
     "data": {
      "text/plain": [
       "'No, the president did not mention nbQA in the state of the union.'"
      ]
     },
     "execution_count": 59,
     "metadata": {},
     "output_type": "execute_result"
    }
   ],
   "source": [
    "agent.run(\n",
    "    \"What tool does ruff use to run over Jupyter Notebooks? Did the president mention that tool in the state of the union?\"\n",
    ")"
   ]
  },
  {
   "cell_type": "code",
   "execution_count": null,
   "id": "b3b857d6",
   "metadata": {},
   "outputs": [],
   "source": []
  }
 ],
 "metadata": {
  "kernelspec": {
   "display_name": "Python 3 (ipykernel)",
   "language": "python",
   "name": "python3"
  },
  "language_info": {
   "codemirror_mode": {
    "name": "ipython",
    "version": 3
   },
   "file_extension": ".py",
   "mimetype": "text/x-python",
   "name": "python",
   "nbconvert_exporter": "python",
   "pygments_lexer": "ipython3",
   "version": "3.10.12"
  }
 },
 "nbformat": 4,
 "nbformat_minor": 5
}
